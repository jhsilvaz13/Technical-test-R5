{
 "cells": [
  {
   "cell_type": "markdown",
   "metadata": {},
   "source": [
    "# Primera parte\n",
    "---\n",
    "El siguiente archivo fue extraído de la API de Spotify **taylor_swift_spotify.json** y usted deberá crear un script en Python que lo procese y lo deje con el siguiente formato **dataset.csv** . Para esta primera parte de la prueba solo podrá usar Python y las librerías\n",
    "Pandas y JSON.\n",
    "\n",
    "Entregable: Archivo de Python con la solución del problema."
   ]
  },
  {
   "cell_type": "markdown",
   "metadata": {},
   "source": [
    "# Solución\n",
    "Para solucionar este problema se hace uso de las librerias pandas y json. Por lo cual es necesario asegurarse de tenerlas instaladas en el entorno de trabajo, para esto se puede usar el siguiente comando en la terminal:\n",
    "```\n",
    "pip install pandas\n",
    "pip install json\n",
    "```\n",
    "O bien podra instalar todas las librerias necesarias para este proyecto usando el siguiente comando:\n",
    "```\n",
    "pip install -r requirements.txt\n",
    "```\n",
    "Una vez instaladas las librerias, las importamos para hacer uso de ellas en el script:\n"
   ]
  },
  {
   "cell_type": "code",
   "execution_count": 2,
   "metadata": {},
   "outputs": [],
   "source": [
    "#Import libraries\n",
    "import pandas as pd\n",
    "import json"
   ]
  },
  {
   "cell_type": "markdown",
   "metadata": {},
   "source": [
    "Una vez importadas las librerias se hace uso de json para leer el archivo **taylor_swift_spotify.json**"
   ]
  },
  {
   "cell_type": "code",
   "execution_count": 3,
   "metadata": {},
   "outputs": [
    {
     "data": {
      "text/plain": [
       "dict_keys(['artist_id', 'artist_name', 'artist_popularity', 'albums'])"
      ]
     },
     "execution_count": 3,
     "metadata": {},
     "output_type": "execute_result"
    }
   ],
   "source": [
    "#OPEN JSON FILE and save it in a variable named data\n",
    "with open('./data/taylor_swift_spotify.json') as file:\n",
    "    data=json.load(file)\n",
    "type(data) #check the type of data as we expect it to be a python dictionary in consequence we can use the keys() method to see the keys of the dictionary\n",
    "data.keys()"
   ]
  },
  {
   "cell_type": "markdown",
   "metadata": {},
   "source": [
    "Ahora se hace uso del metodo **json_normalize** para normalizar el archivo json y convertirlo en un dataframe de pandas, el cual se guarda en la variable **df**., recordando que el archivo json tiene una estructura de diccionario con listas anidadas, por lo cual se hace uso del parametro **record_path** para indicarle a la funcion que debe normalizar las listas anidadas y en el parametro **meta** se indica que debe normalizar el diccionario que se encuentra en la raiz del archivo json."
   ]
  },
  {
   "cell_type": "code",
   "execution_count": 4,
   "metadata": {},
   "outputs": [],
   "source": [
    "df=pd.json_normalize(data, record_path=['albums',['tracks']], meta=['artist_id','artist_name','artist_popularity',['albums','album_id'],['albums','album_name'],['albums','album_release_date'],['albums','album_total_tracks']])\n",
    "df.rename(columns={'albums.album_id':'album_id','albums.album_name':'album_name','albums.album_release_date':'album_release_date','albums.album_total_tracks':'album_total_tracks'},inplace=True)"
   ]
  },
  {
   "cell_type": "markdown",
   "metadata": {},
   "source": [
    "Por ultimo se guarda el dataframe en un archivo csv usando el metodo **to_csv** de pandas."
   ]
  },
  {
   "cell_type": "code",
   "execution_count": 5,
   "metadata": {},
   "outputs": [],
   "source": [
    "df.to_csv('./data/results/taylor_swift_spotify.csv', index=False) #save the dataframe as a csv file"
   ]
  },
  {
   "cell_type": "markdown",
   "metadata": {},
   "source": []
  }
 ],
 "metadata": {
  "kernelspec": {
   "display_name": ".venv",
   "language": "python",
   "name": "python3"
  },
  "language_info": {
   "codemirror_mode": {
    "name": "ipython",
    "version": 3
   },
   "file_extension": ".py",
   "mimetype": "text/x-python",
   "name": "python",
   "nbconvert_exporter": "python",
   "pygments_lexer": "ipython3",
   "version": "3.11.4"
  }
 },
 "nbformat": 4,
 "nbformat_minor": 2
}
