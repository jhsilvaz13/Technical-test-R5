{
 "cells": [
  {
   "cell_type": "code",
   "execution_count": 1,
   "metadata": {},
   "outputs": [],
   "source": [
    "import pandas as pd"
   ]
  },
  {
   "cell_type": "code",
   "execution_count": 21,
   "metadata": {},
   "outputs": [],
   "source": [
    "df1 = pd.read_csv('./data/dataset.csv', encoding='utf-8')\n",
    "df2 = pd.read_csv('./data/taylor_swift_spotify.csv', encoding='utf-8')"
   ]
  },
  {
   "cell_type": "code",
   "execution_count": 24,
   "metadata": {},
   "outputs": [
    {
     "data": {
      "text/plain": [
       "True"
      ]
     },
     "execution_count": 24,
     "metadata": {},
     "output_type": "execute_result"
    }
   ],
   "source": [
    "df1.equals(df2)"
   ]
  },
  {
   "cell_type": "code",
   "execution_count": 23,
   "metadata": {},
   "outputs": [
    {
     "data": {
      "text/plain": [
       "Index(['disc_number', 'duration_ms', 'explicit', 'track_number',\n",
       "       'track_popularity', 'track_id', 'track_name',\n",
       "       'audio_features.danceability', 'audio_features.energy',\n",
       "       'audio_features.key', 'audio_features.loudness', 'audio_features.mode',\n",
       "       'audio_features.speechiness', 'audio_features.acousticness',\n",
       "       'audio_features.instrumentalness', 'audio_features.liveness',\n",
       "       'audio_features.valence', 'audio_features.tempo', 'audio_features.id',\n",
       "       'audio_features.time_signature', 'artist_id', 'artist_name',\n",
       "       'artist_popularity', 'album_id', 'album_name', 'album_release_date',\n",
       "       'album_total_tracks'],\n",
       "      dtype='object')"
      ]
     },
     "execution_count": 23,
     "metadata": {},
     "output_type": "execute_result"
    }
   ],
   "source": [
    "df2.columns"
   ]
  }
 ],
 "metadata": {
  "kernelspec": {
   "display_name": ".venv",
   "language": "python",
   "name": "python3"
  },
  "language_info": {
   "codemirror_mode": {
    "name": "ipython",
    "version": 3
   },
   "file_extension": ".py",
   "mimetype": "text/x-python",
   "name": "python",
   "nbconvert_exporter": "python",
   "pygments_lexer": "ipython3",
   "version": "3.11.4"
  }
 },
 "nbformat": 4,
 "nbformat_minor": 2
}
