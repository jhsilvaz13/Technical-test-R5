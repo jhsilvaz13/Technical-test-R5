{
 "cells": [
  {
   "cell_type": "code",
   "execution_count": 60,
   "metadata": {},
   "outputs": [],
   "source": [
    "import pandas as pd\n",
    "import missingno as msno\n",
    "import numpy as np\n",
    "import plotly.express as px\n",
    "import sys"
   ]
  },
  {
   "cell_type": "code",
   "execution_count": 61,
   "metadata": {},
   "outputs": [],
   "source": [
    "df=pd.read_csv('./data/taylor_swift_spotify.csv')"
   ]
  },
  {
   "cell_type": "markdown",
   "metadata": {},
   "source": [
    "# Data Quality Analysis: Taylor Swift Tracks\n",
    "Antes de proceder a evaluar la calidad de los datos a traves de las seis dimensiones recomendadas por (cite), se desea entrar en contexto de los datos que se poseen actualmente, los datos corresponden a un dataset que representa las canciones de Taylor Swift, sabemos que cada registro o fila representa una canción (track), el dataset posee 27 columnas y 539 registros, las columnas corresponden a las siguientes:\n",
    "\n",
    "* **disc_number:** The disc number (usually 1 unless the album consists of more than one disc).\n",
    "* **duration_ms:** The track length in milliseconds.\n",
    "* **explicit:** Whether or not the track has explicit lyrics ( true = yes it does; false = no it does not OR unknown).\n",
    "* **track_number:** The number of the track. If an album has several discs, the track number is the number on the specified disc.\n",
    "* **track_popularity:** The popularity of the track. The value will be between 0 and 100, with 100 being the most popular. The popularity of a track is a value between 0 and 100, with 100 being the most popular. The popularity is calculated by algorithm and is based, in the most part, on the total number of plays the track has had and how recent those plays are. Generally speaking, songs that are being played a lot now will have a higher popularity than songs that were played a lot in the past. Duplicate tracks (e.g. the same track from a single and an album) are rated independently. Artist and album popularity is derived mathematically from track popularity. Note: the popularity value may lag actual popularity by a few days: the value is not updated in real time.\n",
    "* **track_id:** The Spotify ID for the track.\n",
    "* **track_name:** The name of the track.\n",
    "* **audio_features.danceability:** Danceability describes how suitable a track is for dancing based on a combination of musical elements including tempo, rhythm stability, beat strength, and overall regularity. A value of 0.0 is least danceable and 1.0 is most danceable.\n",
    "* **audio_features.energy:** Energy is a measure from 0.0 to 1.0 and represents a perceptual measure of intensity and activity. Typically, energetic tracks feel fast, loud, and noisy. For example, death metal has high energy, while a Bach prelude scores low on the scale. Perceptual features contributing to this attribute include dynamic range, perceived loudness, timbre, onset rate, and general entropy.\n",
    "* **audio_features.key:** The key the track is in. Integers map to pitches using standard Pitch Class notation. E.g. 0 = C, 1 = C♯/D♭, 2 = D, and so on. If no key was detected, the value is -1. The range is -1 to 11.\n",
    "* **audio_features.loudness:** The overall loudness of a track in decibels (dB). Loudness values are averaged across the entire track and are useful for comparing relative loudness of tracks. Loudness is the quality of a sound that is the primary psychological correlate of physical strength (amplitude). Values typically range between -60 and 0 db\n",
    "* **audio_features.mode:** Mode indicates the modality (major or minor) of a track, the type of scale from which its melodic content is derived. Major is represented by 1 and minor is 0.\n",
    "* **audio_features.speechiness:** Speechiness detects the presence of spoken words in a track. The more exclusively speech-like the recording (e.g. talk show, audio book, poetry), the closer to 1.0 the attribute value. Values above 0.66 describe tracks that are probably made entirely of spoken words. Values between 0.33 and 0.66 describe tracks that may contain both music and speech, either in sections or layered, including such cases as rap music. Values below 0.33 most likely represent music and other non-speech-like tracks.\n",
    "* **audio_features.acousticness:** A confidence measure from 0.0 to 1.0 of whether the track is acoustic. 1.0 represents high confidence the track is acoustic.\n",
    "* **audio_features.instrumentalness:** Predicts whether a track contains no vocals. \"Ooh\" and \"aah\" sounds are treated as instrumental in this context. Rap or spoken word tracks are clearly \"vocal\". The closer the instrumentalness value is to 1.0, the greater likelihood the track contains no vocal content. Values above 0.5 are intended to represent instrumental tracks, but confidence is higher as the value approaches 1.0.\n",
    "* **audio_features.liveness:** Detects the presence of an audience in the recording. Higher liveness values represent an increased probability that the track was performed live. A value above 0.8 provides strong likelihood that the track is live.\n",
    "* **audio_features.valence:** A measure from 0.0 to 1.0 describing the musical positiveness conveyed by a track. Tracks with high valence sound more positive (e.g. happy, cheerful, euphoric), while tracks with low valence sound more negative (e.g. sad, depressed, angry).\n",
    "* **audio_features.tempo:** The overall estimated tempo of a track in beats per minute (BPM). In musical terminology, tempo is the speed or pace of a given piece and derives directly from the average beat duration.\n",
    "* **audio_features.id:** \n",
    "* **audio_features.time_signature:** An estimated time signature. The time signature (meter) is a notational convention to specify how many beats are in each bar (or measure). The time signature ranges from 3 to 7 indicating time signatures of \"3/4\", to \"7/4\".\n",
    "* **artist_id:** The Spotify ID for the artist.\n",
    "* **artist_name:** The name of the artist.\n",
    "* **artist_popularity:** The popularity of the artist. The value will be between 0 and 100, with 100 being the most popular. The artist's popularity is calculated from the popularity of all the artist's tracks.\n",
    "* **albums.album_id:** The Spotify ID for the album.\n",
    "* **albums.album_name:** The name of the album. In case of an album takedown, the value may be an empty string.\n",
    "* **albums.album_release_date:** The date the album was first released.\n",
    "* **albums.album_total_tracks:** number of tracks in the album.\n"
   ]
  },
  {
   "cell_type": "code",
   "execution_count": 62,
   "metadata": {},
   "outputs": [
    {
     "data": {
      "text/plain": [
       "27"
      ]
     },
     "execution_count": 62,
     "metadata": {},
     "output_type": "execute_result"
    }
   ],
   "source": [
    "len(df.columns)"
   ]
  },
  {
   "cell_type": "code",
   "execution_count": 63,
   "metadata": {},
   "outputs": [
    {
     "data": {
      "text/plain": [
       "539"
      ]
     },
     "execution_count": 63,
     "metadata": {},
     "output_type": "execute_result"
    }
   ],
   "source": [
    "len(df)"
   ]
  },
  {
   "cell_type": "markdown",
   "metadata": {},
   "source": [
    "# Completeness\n",
    "---\n",
    "Recordando que la completitud hace referencia a la cantidad de datos que son utilizables o completos. Si hay un alto porcentaje de valores que faltan, puede conducir a un análisis sesgado o engañoso si los datos no son representativos de una muestra de datos típica. (cite IBM) se procede a realizar un análisis de completitud de los datos, en donde se evalue tanto los datos nulos como los datos atipicos en un solo porcentaje."
   ]
  },
  {
   "cell_type": "markdown",
   "metadata": {},
   "source": [
    "## Datos Nulos"
   ]
  },
  {
   "cell_type": "markdown",
   "metadata": {},
   "source": [
    "Se procede a realizar un conteo de datos nulos por columna, para esto se utiliza la función `isnull()` de pandas, la cual retorna un dataframe con valores booleanos, donde `True` indica que el valor es nulo y `False` indica que el valor no es nulo, luego se utiliza la función `sum()` de pandas, la cual retorna la suma de los valores de cada columna, como los valores booleanos son representados como 1 y 0, la suma de los valores de cada columna representa la cantidad de valores nulos por columna.\n"
   ]
  },
  {
   "cell_type": "code",
   "execution_count": 64,
   "metadata": {},
   "outputs": [
    {
     "data": {
      "text/html": [
       "<div>\n",
       "<style scoped>\n",
       "    .dataframe tbody tr th:only-of-type {\n",
       "        vertical-align: middle;\n",
       "    }\n",
       "\n",
       "    .dataframe tbody tr th {\n",
       "        vertical-align: top;\n",
       "    }\n",
       "\n",
       "    .dataframe thead th {\n",
       "        text-align: right;\n",
       "    }\n",
       "</style>\n",
       "<table border=\"1\" class=\"dataframe\">\n",
       "  <thead>\n",
       "    <tr style=\"text-align: right;\">\n",
       "      <th></th>\n",
       "      <th>nulls</th>\n",
       "    </tr>\n",
       "  </thead>\n",
       "  <tbody>\n",
       "    <tr>\n",
       "      <th>disc_number</th>\n",
       "      <td>0</td>\n",
       "    </tr>\n",
       "    <tr>\n",
       "      <th>duration_ms</th>\n",
       "      <td>0</td>\n",
       "    </tr>\n",
       "    <tr>\n",
       "      <th>explicit</th>\n",
       "      <td>0</td>\n",
       "    </tr>\n",
       "    <tr>\n",
       "      <th>track_number</th>\n",
       "      <td>0</td>\n",
       "    </tr>\n",
       "    <tr>\n",
       "      <th>track_popularity</th>\n",
       "      <td>0</td>\n",
       "    </tr>\n",
       "    <tr>\n",
       "      <th>track_id</th>\n",
       "      <td>8</td>\n",
       "    </tr>\n",
       "    <tr>\n",
       "      <th>track_name</th>\n",
       "      <td>7</td>\n",
       "    </tr>\n",
       "    <tr>\n",
       "      <th>audio_features.danceability</th>\n",
       "      <td>2</td>\n",
       "    </tr>\n",
       "    <tr>\n",
       "      <th>audio_features.energy</th>\n",
       "      <td>2</td>\n",
       "    </tr>\n",
       "    <tr>\n",
       "      <th>audio_features.key</th>\n",
       "      <td>1</td>\n",
       "    </tr>\n",
       "    <tr>\n",
       "      <th>audio_features.loudness</th>\n",
       "      <td>2</td>\n",
       "    </tr>\n",
       "    <tr>\n",
       "      <th>audio_features.mode</th>\n",
       "      <td>0</td>\n",
       "    </tr>\n",
       "    <tr>\n",
       "      <th>audio_features.speechiness</th>\n",
       "      <td>1</td>\n",
       "    </tr>\n",
       "    <tr>\n",
       "      <th>audio_features.acousticness</th>\n",
       "      <td>1</td>\n",
       "    </tr>\n",
       "    <tr>\n",
       "      <th>audio_features.instrumentalness</th>\n",
       "      <td>0</td>\n",
       "    </tr>\n",
       "    <tr>\n",
       "      <th>audio_features.liveness</th>\n",
       "      <td>1</td>\n",
       "    </tr>\n",
       "    <tr>\n",
       "      <th>audio_features.valence</th>\n",
       "      <td>0</td>\n",
       "    </tr>\n",
       "    <tr>\n",
       "      <th>audio_features.tempo</th>\n",
       "      <td>1</td>\n",
       "    </tr>\n",
       "    <tr>\n",
       "      <th>audio_features.id</th>\n",
       "      <td>0</td>\n",
       "    </tr>\n",
       "    <tr>\n",
       "      <th>audio_features.time_signature</th>\n",
       "      <td>1</td>\n",
       "    </tr>\n",
       "    <tr>\n",
       "      <th>artist_id</th>\n",
       "      <td>0</td>\n",
       "    </tr>\n",
       "    <tr>\n",
       "      <th>artist_name</th>\n",
       "      <td>0</td>\n",
       "    </tr>\n",
       "    <tr>\n",
       "      <th>artist_popularity</th>\n",
       "      <td>0</td>\n",
       "    </tr>\n",
       "    <tr>\n",
       "      <th>albums.album_id</th>\n",
       "      <td>0</td>\n",
       "    </tr>\n",
       "    <tr>\n",
       "      <th>albums.album_name</th>\n",
       "      <td>62</td>\n",
       "    </tr>\n",
       "    <tr>\n",
       "      <th>albums.album_release_date</th>\n",
       "      <td>0</td>\n",
       "    </tr>\n",
       "    <tr>\n",
       "      <th>albums.album_total_tracks</th>\n",
       "      <td>0</td>\n",
       "    </tr>\n",
       "  </tbody>\n",
       "</table>\n",
       "</div>"
      ],
      "text/plain": [
       "                                 nulls\n",
       "disc_number                          0\n",
       "duration_ms                          0\n",
       "explicit                             0\n",
       "track_number                         0\n",
       "track_popularity                     0\n",
       "track_id                             8\n",
       "track_name                           7\n",
       "audio_features.danceability          2\n",
       "audio_features.energy                2\n",
       "audio_features.key                   1\n",
       "audio_features.loudness              2\n",
       "audio_features.mode                  0\n",
       "audio_features.speechiness           1\n",
       "audio_features.acousticness          1\n",
       "audio_features.instrumentalness      0\n",
       "audio_features.liveness              1\n",
       "audio_features.valence               0\n",
       "audio_features.tempo                 1\n",
       "audio_features.id                    0\n",
       "audio_features.time_signature        1\n",
       "artist_id                            0\n",
       "artist_name                          0\n",
       "artist_popularity                    0\n",
       "albums.album_id                      0\n",
       "albums.album_name                   62\n",
       "albums.album_release_date            0\n",
       "albums.album_total_tracks            0"
      ]
     },
     "execution_count": 64,
     "metadata": {},
     "output_type": "execute_result"
    }
   ],
   "source": [
    "nulls=df.isnull().sum().to_frame().rename(columns={0:'nulls'})\n",
    "nulls"
   ]
  },
  {
   "cell_type": "markdown",
   "metadata": {},
   "source": [
    "Esta misma información se puede visualizar en un grafico de barras donde se muestra la cantidad de valores no nulos para cada columna, como se logra concluir de manera más sencilla en el gráfico la columna que contiene mayor cantidad de valores nulos es **albums.album_name** además se puede ver el porcentaje de completitud no exacto a la izquierda del grafico como se ve todas las columnas estan por encima del 0.8 esto es el 80% de completitud, por ahora este porcentaje solo nos da una pequeña nocion de la completitud de los datos pues se puede contar el numero de datos nulos y calcular un porcentaje con absoluta precisión."
   ]
  },
  {
   "cell_type": "code",
   "execution_count": 65,
   "metadata": {},
   "outputs": [
    {
     "data": {
      "text/plain": [
       "<Axes: >"
      ]
     },
     "execution_count": 65,
     "metadata": {},
     "output_type": "execute_result"
    },
    {
     "data": {
      "image/png": "[encoded data removed]",
      "text/plain": [
       "<Figure size 2500x1000 with 3 Axes>"
      ]
     },
     "metadata": {},
     "output_type": "display_data"
    }
   ],
   "source": [
    "msno.bar(df)"
   ]
  },
  {
   "cell_type": "markdown",
   "metadata": {},
   "source": [
    "Como se visualiza en la tabla de las 27 columnas 12 de ellas poseen valores nulos, para visualizar mejor los valores nulos del dataset se procede a realizar una missigness plot donde se muestra para cada columna los valores nulos y donde se encuentran ubicados dentro del dataset."
   ]
  },
  {
   "cell_type": "code",
   "execution_count": 66,
   "metadata": {},
   "outputs": [
    {
     "data": {
      "text/plain": [
       "<Axes: >"
      ]
     },
     "execution_count": 66,
     "metadata": {},
     "output_type": "execute_result"
    },
    {
     "data": {
      "image/png": "[encoded data removed]",
      "text/plain": [
       "<Figure size 2500x1000 with 2 Axes>"
      ]
     },
     "metadata": {},
     "output_type": "display_data"
    }
   ],
   "source": [
    "msno.matrix(df)"
   ]
  },
  {
   "cell_type": "markdown",
   "metadata": {},
   "source": [
    "Ahora para calcular un porcentaje de completitud más exacto se procede a realizar un conteo de los valores nulos por columna y luego se divide por el total de registros del dataset, la propiedad size retorna el número de registros que debe tener un dataframe, esto es numero de filas por numero de columnas, luego se multiplica por 100 para obtener el porcentaje de completitud, como se ve el porcentaje de valores no nulos es de $99.39\\%$ redondeando a dos cifras significativas, esto quiere decir que el dataset posee apenas un $0.61\\%$ de valores nulos, lo cual es un porcentaje muy bajo, podemos concluir parcialmente que contando solo los valores nulos el dataset posee una alta completitud, pero no podemos concluir que el dataset posee una alta completitud en general, pues no hemos contado los valores atipicos."
   ]
  },
  {
   "cell_type": "code",
   "execution_count": 67,
   "metadata": {},
   "outputs": [
    {
     "name": "stdout",
     "output_type": "stream",
     "text": [
      "Non nulls percentage: 99.39%\n"
     ]
    }
   ],
   "source": [
    "non_nulls_percentage=(1-nulls['nulls'].sum()/df.size)*100\n",
    "print('Non nulls percentage: {:.2f}%'.format(non_nulls_percentage))"
   ]
  },
  {
   "cell_type": "markdown",
   "metadata": {},
   "source": [
    "De igual manera se puede revisar el porcentaje de completitud de cada columna, para esto utilizamos el dataframe almacenado de **nulls** agregando las columnas non_nulls, non_nulls_percentage, nulls_percentage, Total y Total_percentage de esta manera se resume y evidencia como se encuentran los valores nulos en el dataset por columna."
   ]
  },
  {
   "cell_type": "code",
   "execution_count": 68,
   "metadata": {},
   "outputs": [
    {
     "data": {
      "text/html": [
       "<div>\n",
       "<style scoped>\n",
       "    .dataframe tbody tr th:only-of-type {\n",
       "        vertical-align: middle;\n",
       "    }\n",
       "\n",
       "    .dataframe tbody tr th {\n",
       "        vertical-align: top;\n",
       "    }\n",
       "\n",
       "    .dataframe thead th {\n",
       "        text-align: right;\n",
       "    }\n",
       "</style>\n",
       "<table border=\"1\" class=\"dataframe\">\n",
       "  <thead>\n",
       "    <tr style=\"text-align: right;\">\n",
       "      <th></th>\n",
       "      <th>nulls</th>\n",
       "      <th>non_nulls</th>\n",
       "      <th>nulls_percentage</th>\n",
       "      <th>non_nulls_percentage</th>\n",
       "      <th>Total</th>\n",
       "      <th>Total_percentage</th>\n",
       "    </tr>\n",
       "  </thead>\n",
       "  <tbody>\n",
       "    <tr>\n",
       "      <th>disc_number</th>\n",
       "      <td>0</td>\n",
       "      <td>539</td>\n",
       "      <td>0.000000</td>\n",
       "      <td>100.000000</td>\n",
       "      <td>539</td>\n",
       "      <td>100.0</td>\n",
       "    </tr>\n",
       "    <tr>\n",
       "      <th>duration_ms</th>\n",
       "      <td>0</td>\n",
       "      <td>539</td>\n",
       "      <td>0.000000</td>\n",
       "      <td>100.000000</td>\n",
       "      <td>539</td>\n",
       "      <td>100.0</td>\n",
       "    </tr>\n",
       "    <tr>\n",
       "      <th>explicit</th>\n",
       "      <td>0</td>\n",
       "      <td>539</td>\n",
       "      <td>0.000000</td>\n",
       "      <td>100.000000</td>\n",
       "      <td>539</td>\n",
       "      <td>100.0</td>\n",
       "    </tr>\n",
       "    <tr>\n",
       "      <th>track_number</th>\n",
       "      <td>0</td>\n",
       "      <td>539</td>\n",
       "      <td>0.000000</td>\n",
       "      <td>100.000000</td>\n",
       "      <td>539</td>\n",
       "      <td>100.0</td>\n",
       "    </tr>\n",
       "    <tr>\n",
       "      <th>track_popularity</th>\n",
       "      <td>0</td>\n",
       "      <td>539</td>\n",
       "      <td>0.000000</td>\n",
       "      <td>100.000000</td>\n",
       "      <td>539</td>\n",
       "      <td>100.0</td>\n",
       "    </tr>\n",
       "    <tr>\n",
       "      <th>track_id</th>\n",
       "      <td>8</td>\n",
       "      <td>531</td>\n",
       "      <td>1.484230</td>\n",
       "      <td>98.515770</td>\n",
       "      <td>539</td>\n",
       "      <td>100.0</td>\n",
       "    </tr>\n",
       "    <tr>\n",
       "      <th>track_name</th>\n",
       "      <td>7</td>\n",
       "      <td>532</td>\n",
       "      <td>1.298701</td>\n",
       "      <td>98.701299</td>\n",
       "      <td>539</td>\n",
       "      <td>100.0</td>\n",
       "    </tr>\n",
       "    <tr>\n",
       "      <th>audio_features.danceability</th>\n",
       "      <td>2</td>\n",
       "      <td>537</td>\n",
       "      <td>0.371058</td>\n",
       "      <td>99.628942</td>\n",
       "      <td>539</td>\n",
       "      <td>100.0</td>\n",
       "    </tr>\n",
       "    <tr>\n",
       "      <th>audio_features.energy</th>\n",
       "      <td>2</td>\n",
       "      <td>537</td>\n",
       "      <td>0.371058</td>\n",
       "      <td>99.628942</td>\n",
       "      <td>539</td>\n",
       "      <td>100.0</td>\n",
       "    </tr>\n",
       "    <tr>\n",
       "      <th>audio_features.key</th>\n",
       "      <td>1</td>\n",
       "      <td>538</td>\n",
       "      <td>0.185529</td>\n",
       "      <td>99.814471</td>\n",
       "      <td>539</td>\n",
       "      <td>100.0</td>\n",
       "    </tr>\n",
       "    <tr>\n",
       "      <th>audio_features.loudness</th>\n",
       "      <td>2</td>\n",
       "      <td>537</td>\n",
       "      <td>0.371058</td>\n",
       "      <td>99.628942</td>\n",
       "      <td>539</td>\n",
       "      <td>100.0</td>\n",
       "    </tr>\n",
       "    <tr>\n",
       "      <th>audio_features.mode</th>\n",
       "      <td>0</td>\n",
       "      <td>539</td>\n",
       "      <td>0.000000</td>\n",
       "      <td>100.000000</td>\n",
       "      <td>539</td>\n",
       "      <td>100.0</td>\n",
       "    </tr>\n",
       "    <tr>\n",
       "      <th>audio_features.speechiness</th>\n",
       "      <td>1</td>\n",
       "      <td>538</td>\n",
       "      <td>0.185529</td>\n",
       "      <td>99.814471</td>\n",
       "      <td>539</td>\n",
       "      <td>100.0</td>\n",
       "    </tr>\n",
       "    <tr>\n",
       "      <th>audio_features.acousticness</th>\n",
       "      <td>1</td>\n",
       "      <td>538</td>\n",
       "      <td>0.185529</td>\n",
       "      <td>99.814471</td>\n",
       "      <td>539</td>\n",
       "      <td>100.0</td>\n",
       "    </tr>\n",
       "    <tr>\n",
       "      <th>audio_features.instrumentalness</th>\n",
       "      <td>0</td>\n",
       "      <td>539</td>\n",
       "      <td>0.000000</td>\n",
       "      <td>100.000000</td>\n",
       "      <td>539</td>\n",
       "      <td>100.0</td>\n",
       "    </tr>\n",
       "    <tr>\n",
       "      <th>audio_features.liveness</th>\n",
       "      <td>1</td>\n",
       "      <td>538</td>\n",
       "      <td>0.185529</td>\n",
       "      <td>99.814471</td>\n",
       "      <td>539</td>\n",
       "      <td>100.0</td>\n",
       "    </tr>\n",
       "    <tr>\n",
       "      <th>audio_features.valence</th>\n",
       "      <td>0</td>\n",
       "      <td>539</td>\n",
       "      <td>0.000000</td>\n",
       "      <td>100.000000</td>\n",
       "      <td>539</td>\n",
       "      <td>100.0</td>\n",
       "    </tr>\n",
       "    <tr>\n",
       "      <th>audio_features.tempo</th>\n",
       "      <td>1</td>\n",
       "      <td>538</td>\n",
       "      <td>0.185529</td>\n",
       "      <td>99.814471</td>\n",
       "      <td>539</td>\n",
       "      <td>100.0</td>\n",
       "    </tr>\n",
       "    <tr>\n",
       "      <th>audio_features.id</th>\n",
       "      <td>0</td>\n",
       "      <td>539</td>\n",
       "      <td>0.000000</td>\n",
       "      <td>100.000000</td>\n",
       "      <td>539</td>\n",
       "      <td>100.0</td>\n",
       "    </tr>\n",
       "    <tr>\n",
       "      <th>audio_features.time_signature</th>\n",
       "      <td>1</td>\n",
       "      <td>538</td>\n",
       "      <td>0.185529</td>\n",
       "      <td>99.814471</td>\n",
       "      <td>539</td>\n",
       "      <td>100.0</td>\n",
       "    </tr>\n",
       "    <tr>\n",
       "      <th>artist_id</th>\n",
       "      <td>0</td>\n",
       "      <td>539</td>\n",
       "      <td>0.000000</td>\n",
       "      <td>100.000000</td>\n",
       "      <td>539</td>\n",
       "      <td>100.0</td>\n",
       "    </tr>\n",
       "    <tr>\n",
       "      <th>artist_name</th>\n",
       "      <td>0</td>\n",
       "      <td>539</td>\n",
       "      <td>0.000000</td>\n",
       "      <td>100.000000</td>\n",
       "      <td>539</td>\n",
       "      <td>100.0</td>\n",
       "    </tr>\n",
       "    <tr>\n",
       "      <th>artist_popularity</th>\n",
       "      <td>0</td>\n",
       "      <td>539</td>\n",
       "      <td>0.000000</td>\n",
       "      <td>100.000000</td>\n",
       "      <td>539</td>\n",
       "      <td>100.0</td>\n",
       "    </tr>\n",
       "    <tr>\n",
       "      <th>albums.album_id</th>\n",
       "      <td>0</td>\n",
       "      <td>539</td>\n",
       "      <td>0.000000</td>\n",
       "      <td>100.000000</td>\n",
       "      <td>539</td>\n",
       "      <td>100.0</td>\n",
       "    </tr>\n",
       "    <tr>\n",
       "      <th>albums.album_name</th>\n",
       "      <td>62</td>\n",
       "      <td>477</td>\n",
       "      <td>11.502783</td>\n",
       "      <td>88.497217</td>\n",
       "      <td>539</td>\n",
       "      <td>100.0</td>\n",
       "    </tr>\n",
       "    <tr>\n",
       "      <th>albums.album_release_date</th>\n",
       "      <td>0</td>\n",
       "      <td>539</td>\n",
       "      <td>0.000000</td>\n",
       "      <td>100.000000</td>\n",
       "      <td>539</td>\n",
       "      <td>100.0</td>\n",
       "    </tr>\n",
       "    <tr>\n",
       "      <th>albums.album_total_tracks</th>\n",
       "      <td>0</td>\n",
       "      <td>539</td>\n",
       "      <td>0.000000</td>\n",
       "      <td>100.000000</td>\n",
       "      <td>539</td>\n",
       "      <td>100.0</td>\n",
       "    </tr>\n",
       "  </tbody>\n",
       "</table>\n",
       "</div>"
      ],
      "text/plain": [
       "                                 nulls  non_nulls  nulls_percentage  \\\n",
       "disc_number                          0        539          0.000000   \n",
       "duration_ms                          0        539          0.000000   \n",
       "explicit                             0        539          0.000000   \n",
       "track_number                         0        539          0.000000   \n",
       "track_popularity                     0        539          0.000000   \n",
       "track_id                             8        531          1.484230   \n",
       "track_name                           7        532          1.298701   \n",
       "audio_features.danceability          2        537          0.371058   \n",
       "audio_features.energy                2        537          0.371058   \n",
       "audio_features.key                   1        538          0.185529   \n",
       "audio_features.loudness              2        537          0.371058   \n",
       "audio_features.mode                  0        539          0.000000   \n",
       "audio_features.speechiness           1        538          0.185529   \n",
       "audio_features.acousticness          1        538          0.185529   \n",
       "audio_features.instrumentalness      0        539          0.000000   \n",
       "audio_features.liveness              1        538          0.185529   \n",
       "audio_features.valence               0        539          0.000000   \n",
       "audio_features.tempo                 1        538          0.185529   \n",
       "audio_features.id                    0        539          0.000000   \n",
       "audio_features.time_signature        1        538          0.185529   \n",
       "artist_id                            0        539          0.000000   \n",
       "artist_name                          0        539          0.000000   \n",
       "artist_popularity                    0        539          0.000000   \n",
       "albums.album_id                      0        539          0.000000   \n",
       "albums.album_name                   62        477         11.502783   \n",
       "albums.album_release_date            0        539          0.000000   \n",
       "albums.album_total_tracks            0        539          0.000000   \n",
       "\n",
       "                                 non_nulls_percentage  Total  Total_percentage  \n",
       "disc_number                                100.000000    539             100.0  \n",
       "duration_ms                                100.000000    539             100.0  \n",
       "explicit                                   100.000000    539             100.0  \n",
       "track_number                               100.000000    539             100.0  \n",
       "track_popularity                           100.000000    539             100.0  \n",
       "track_id                                    98.515770    539             100.0  \n",
       "track_name                                  98.701299    539             100.0  \n",
       "audio_features.danceability                 99.628942    539             100.0  \n",
       "audio_features.energy                       99.628942    539             100.0  \n",
       "audio_features.key                          99.814471    539             100.0  \n",
       "audio_features.loudness                     99.628942    539             100.0  \n",
       "audio_features.mode                        100.000000    539             100.0  \n",
       "audio_features.speechiness                  99.814471    539             100.0  \n",
       "audio_features.acousticness                 99.814471    539             100.0  \n",
       "audio_features.instrumentalness            100.000000    539             100.0  \n",
       "audio_features.liveness                     99.814471    539             100.0  \n",
       "audio_features.valence                     100.000000    539             100.0  \n",
       "audio_features.tempo                        99.814471    539             100.0  \n",
       "audio_features.id                          100.000000    539             100.0  \n",
       "audio_features.time_signature               99.814471    539             100.0  \n",
       "artist_id                                  100.000000    539             100.0  \n",
       "artist_name                                100.000000    539             100.0  \n",
       "artist_popularity                          100.000000    539             100.0  \n",
       "albums.album_id                            100.000000    539             100.0  \n",
       "albums.album_name                           88.497217    539             100.0  \n",
       "albums.album_release_date                  100.000000    539             100.0  \n",
       "albums.album_total_tracks                  100.000000    539             100.0  "
      ]
     },
     "execution_count": 68,
     "metadata": {},
     "output_type": "execute_result"
    }
   ],
   "source": [
    "nulls['non_nulls']=df.notnull().sum()\n",
    "nulls['nulls_percentage']=nulls['nulls']/len(df)*100\n",
    "nulls['non_nulls_percentage']=nulls['non_nulls']/len(df)*100\n",
    "nulls['Total']=nulls['nulls']+nulls['non_nulls']\n",
    "nulls['Total_percentage']=nulls['Total']/len(df)*100\n",
    "nulls"
   ]
  },
  {
   "cell_type": "markdown",
   "metadata": {},
   "source": [
    "Otro porcentaje que resulta interesante en cuanto a valores nulos es el número de registros o filas que no contienen ningun valor nulo, a continuación se muestra como con un filtro sencillo en pandas se puede obtener los registros que contienen al menos un valor nulo, esto es importante pues un criterio de selección de registros validos puede ser que no tenga ningún registro nulo o contenga como un máximo de campos nulos."
   ]
  },
  {
   "cell_type": "code",
   "execution_count": 69,
   "metadata": {},
   "outputs": [
    {
     "data": {
      "text/html": [
       "<div>\n",
       "<style scoped>\n",
       "    .dataframe tbody tr th:only-of-type {\n",
       "        vertical-align: middle;\n",
       "    }\n",
       "\n",
       "    .dataframe tbody tr th {\n",
       "        vertical-align: top;\n",
       "    }\n",
       "\n",
       "    .dataframe thead th {\n",
       "        text-align: right;\n",
       "    }\n",
       "</style>\n",
       "<table border=\"1\" class=\"dataframe\">\n",
       "  <thead>\n",
       "    <tr style=\"text-align: right;\">\n",
       "      <th></th>\n",
       "      <th>disc_number</th>\n",
       "      <th>duration_ms</th>\n",
       "      <th>explicit</th>\n",
       "      <th>track_number</th>\n",
       "      <th>track_popularity</th>\n",
       "      <th>track_id</th>\n",
       "      <th>track_name</th>\n",
       "      <th>audio_features.danceability</th>\n",
       "      <th>audio_features.energy</th>\n",
       "      <th>audio_features.key</th>\n",
       "      <th>...</th>\n",
       "      <th>audio_features.tempo</th>\n",
       "      <th>audio_features.id</th>\n",
       "      <th>audio_features.time_signature</th>\n",
       "      <th>artist_id</th>\n",
       "      <th>artist_name</th>\n",
       "      <th>artist_popularity</th>\n",
       "      <th>albums.album_id</th>\n",
       "      <th>albums.album_name</th>\n",
       "      <th>albums.album_release_date</th>\n",
       "      <th>albums.album_total_tracks</th>\n",
       "    </tr>\n",
       "  </thead>\n",
       "  <tbody>\n",
       "    <tr>\n",
       "      <th>77</th>\n",
       "      <td>1</td>\n",
       "      <td>191039</td>\n",
       "      <td>False</td>\n",
       "      <td>13</td>\n",
       "      <td>68</td>\n",
       "      <td>1QQii3pa5m8MEda0nbkjfw</td>\n",
       "      <td>NaN</td>\n",
       "      <td>0.661</td>\n",
       "      <td>0.345</td>\n",
       "      <td>4.0</td>\n",
       "      <td>...</td>\n",
       "      <td>125.977</td>\n",
       "      <td>1QQii3pa5m8MEda0nbkjfw</td>\n",
       "      <td>4.0</td>\n",
       "      <td>06HL4z0CvFAxyc27GX</td>\n",
       "      <td>Taylor Swift</td>\n",
       "      <td>120</td>\n",
       "      <td>1fnJ7k0bllNfL1kVdNVW1A</td>\n",
       "      <td>Midnights (The Til Dawn Edition)</td>\n",
       "      <td>2027-05-26</td>\n",
       "      <td>24</td>\n",
       "    </tr>\n",
       "    <tr>\n",
       "      <th>91</th>\n",
       "      <td>1</td>\n",
       "      <td>200690</td>\n",
       "      <td>False</td>\n",
       "      <td>3</td>\n",
       "      <td>71</td>\n",
       "      <td>02Zkkf2zMkwRGQjZ7T4p8f</td>\n",
       "      <td>NaN</td>\n",
       "      <td>0.638</td>\n",
       "      <td>0.634</td>\n",
       "      <td>4.0</td>\n",
       "      <td>...</td>\n",
       "      <td>96.953</td>\n",
       "      <td>02Zkkf2zMkwRGQjZ7T4p8f</td>\n",
       "      <td>4.0</td>\n",
       "      <td>06HL4z0CvFAxyc27GX</td>\n",
       "      <td>Taylor Swift</td>\n",
       "      <td>120</td>\n",
       "      <td>3lS1y25WAhcqJDATJK70Mq</td>\n",
       "      <td>Midnights (3am Edition)</td>\n",
       "      <td>2022-10-22</td>\n",
       "      <td>20</td>\n",
       "    </tr>\n",
       "    <tr>\n",
       "      <th>104</th>\n",
       "      <td>1</td>\n",
       "      <td>196258</td>\n",
       "      <td>False</td>\n",
       "      <td>16</td>\n",
       "      <td>72</td>\n",
       "      <td>7712gjoih4QoDbXpljEk21</td>\n",
       "      <td>NaN</td>\n",
       "      <td>0.700</td>\n",
       "      <td>0.509</td>\n",
       "      <td>7.0</td>\n",
       "      <td>...</td>\n",
       "      <td>110.947</td>\n",
       "      <td>7712gjoih4QoDbXpljEk21</td>\n",
       "      <td>4.0</td>\n",
       "      <td>06HL4z0CvFAxyc27GX</td>\n",
       "      <td>Taylor Swift</td>\n",
       "      <td>120</td>\n",
       "      <td>3lS1y25WAhcqJDATJK70Mq</td>\n",
       "      <td>Midnights (3am Edition)</td>\n",
       "      <td>2022-10-22</td>\n",
       "      <td>20</td>\n",
       "    </tr>\n",
       "    <tr>\n",
       "      <th>321</th>\n",
       "      <td>1</td>\n",
       "      <td>209680</td>\n",
       "      <td>False</td>\n",
       "      <td>8</td>\n",
       "      <td>84</td>\n",
       "      <td>NaN</td>\n",
       "      <td>Gorgeous</td>\n",
       "      <td>0.800</td>\n",
       "      <td>0.535</td>\n",
       "      <td>7.0</td>\n",
       "      <td>...</td>\n",
       "      <td>92.027</td>\n",
       "      <td>1ZY1PqizIl78geGM4xWlEA</td>\n",
       "      <td>4.0</td>\n",
       "      <td>06HL4z0CvFAxyc27GX</td>\n",
       "      <td>Taylor Swift</td>\n",
       "      <td>120</td>\n",
       "      <td>6DEjYFkNZh67HP7R9PSZvv</td>\n",
       "      <td>reputation</td>\n",
       "      <td>2017-11-10</td>\n",
       "      <td>15</td>\n",
       "    </tr>\n",
       "    <tr>\n",
       "      <th>329</th>\n",
       "      <td>1</td>\n",
       "      <td>329160</td>\n",
       "      <td>False</td>\n",
       "      <td>1</td>\n",
       "      <td>42</td>\n",
       "      <td>00vJzaoxM3Eja1doBUhX0P</td>\n",
       "      <td>All Too Well</td>\n",
       "      <td>0.602</td>\n",
       "      <td>0.605</td>\n",
       "      <td>0.0</td>\n",
       "      <td>...</td>\n",
       "      <td>93.061</td>\n",
       "      <td>00vJzaoxM3Eja1doBUhX0P</td>\n",
       "      <td>4.0</td>\n",
       "      <td>06HL4z0CvFAxyc27GX</td>\n",
       "      <td>Taylor Swift</td>\n",
       "      <td>120</td>\n",
       "      <td>1MPAXuTVL2Ej5x0JHiSPq8</td>\n",
       "      <td>NaN</td>\n",
       "      <td>2017-11-09</td>\n",
       "      <td>46</td>\n",
       "    </tr>\n",
       "    <tr>\n",
       "      <th>...</th>\n",
       "      <td>...</td>\n",
       "      <td>...</td>\n",
       "      <td>...</td>\n",
       "      <td>...</td>\n",
       "      <td>...</td>\n",
       "      <td>...</td>\n",
       "      <td>...</td>\n",
       "      <td>...</td>\n",
       "      <td>...</td>\n",
       "      <td>...</td>\n",
       "      <td>...</td>\n",
       "      <td>...</td>\n",
       "      <td>...</td>\n",
       "      <td>...</td>\n",
       "      <td>...</td>\n",
       "      <td>...</td>\n",
       "      <td>...</td>\n",
       "      <td>...</td>\n",
       "      <td>...</td>\n",
       "      <td>...</td>\n",
       "      <td>...</td>\n",
       "    </tr>\n",
       "    <tr>\n",
       "      <th>441</th>\n",
       "      <td>1</td>\n",
       "      <td>404680</td>\n",
       "      <td>False</td>\n",
       "      <td>13</td>\n",
       "      <td>48</td>\n",
       "      <td>4DbI1rr4IQ2bc8nejy9ttd</td>\n",
       "      <td>Dear John - Live/2011</td>\n",
       "      <td>0.521</td>\n",
       "      <td>0.386</td>\n",
       "      <td>4.0</td>\n",
       "      <td>...</td>\n",
       "      <td>119.518</td>\n",
       "      <td>4DbI1rr4IQ2bc8nejy9ttd</td>\n",
       "      <td>3.0</td>\n",
       "      <td>06HL4z0CvFAxyc27GX</td>\n",
       "      <td>Taylor Swift</td>\n",
       "      <td>120</td>\n",
       "      <td>6fyR4wBPwLHKcRtxgd4sGh</td>\n",
       "      <td>NaN</td>\n",
       "      <td>2010-10-25</td>\n",
       "      <td>16</td>\n",
       "    </tr>\n",
       "    <tr>\n",
       "      <th>442</th>\n",
       "      <td>1</td>\n",
       "      <td>389213</td>\n",
       "      <td>False</td>\n",
       "      <td>14</td>\n",
       "      <td>49</td>\n",
       "      <td>NaN</td>\n",
       "      <td>Enchanted - Live/2011</td>\n",
       "      <td>0.340</td>\n",
       "      <td>0.663</td>\n",
       "      <td>8.0</td>\n",
       "      <td>...</td>\n",
       "      <td>163.678</td>\n",
       "      <td>3lm4L3pPL32PFy74dR17OR</td>\n",
       "      <td>4.0</td>\n",
       "      <td>06HL4z0CvFAxyc27GX</td>\n",
       "      <td>Taylor Swift</td>\n",
       "      <td>120</td>\n",
       "      <td>6fyR4wBPwLHKcRtxgd4sGh</td>\n",
       "      <td>NaN</td>\n",
       "      <td>2010-10-25</td>\n",
       "      <td>16</td>\n",
       "    </tr>\n",
       "    <tr>\n",
       "      <th>443</th>\n",
       "      <td>1</td>\n",
       "      <td>292426</td>\n",
       "      <td>False</td>\n",
       "      <td>15</td>\n",
       "      <td>48</td>\n",
       "      <td>6znB7YZhMJT2B83zfbiyLq</td>\n",
       "      <td>Haunted - Live/2011</td>\n",
       "      <td>0.338</td>\n",
       "      <td>0.818</td>\n",
       "      <td>5.0</td>\n",
       "      <td>...</td>\n",
       "      <td>162.157</td>\n",
       "      <td>6znB7YZhMJT2B83zfbiyLq</td>\n",
       "      <td>4.0</td>\n",
       "      <td>06HL4z0CvFAxyc27GX</td>\n",
       "      <td>Taylor Swift</td>\n",
       "      <td>120</td>\n",
       "      <td>6fyR4wBPwLHKcRtxgd4sGh</td>\n",
       "      <td>NaN</td>\n",
       "      <td>2010-10-25</td>\n",
       "      <td>16</td>\n",
       "    </tr>\n",
       "    <tr>\n",
       "      <th>444</th>\n",
       "      <td>1</td>\n",
       "      <td>376466</td>\n",
       "      <td>False</td>\n",
       "      <td>16</td>\n",
       "      <td>48</td>\n",
       "      <td>5QkzyLUb4ggojNDp8G2OxX</td>\n",
       "      <td>Long Live - Live/2011</td>\n",
       "      <td>0.544</td>\n",
       "      <td>0.728</td>\n",
       "      <td>7.0</td>\n",
       "      <td>...</td>\n",
       "      <td>101.939</td>\n",
       "      <td>5QkzyLUb4ggojNDp8G2OxX</td>\n",
       "      <td>4.0</td>\n",
       "      <td>06HL4z0CvFAxyc27GX</td>\n",
       "      <td>Taylor Swift</td>\n",
       "      <td>120</td>\n",
       "      <td>6fyR4wBPwLHKcRtxgd4sGh</td>\n",
       "      <td>NaN</td>\n",
       "      <td>2010-10-25</td>\n",
       "      <td>16</td>\n",
       "    </tr>\n",
       "    <tr>\n",
       "      <th>445</th>\n",
       "      <td>1</td>\n",
       "      <td>230546</td>\n",
       "      <td>False</td>\n",
       "      <td>1</td>\n",
       "      <td>49</td>\n",
       "      <td>NaN</td>\n",
       "      <td>Mine - POP Mix</td>\n",
       "      <td>0.696</td>\n",
       "      <td>0.768</td>\n",
       "      <td>7.0</td>\n",
       "      <td>...</td>\n",
       "      <td>121.050</td>\n",
       "      <td>0GxW5K0qzrq7L1jwSY5OmY</td>\n",
       "      <td>4.0</td>\n",
       "      <td>06HL4z0CvFAxyc27GX</td>\n",
       "      <td>Taylor Swift</td>\n",
       "      <td>120</td>\n",
       "      <td>6Ar2o9KCqcyYF9J0aQP3au</td>\n",
       "      <td>Speak Now</td>\n",
       "      <td>2010-10-25</td>\n",
       "      <td>14</td>\n",
       "    </tr>\n",
       "  </tbody>\n",
       "</table>\n",
       "<p>74 rows × 27 columns</p>\n",
       "</div>"
      ],
      "text/plain": [
       "     disc_number  duration_ms explicit  track_number  track_popularity  \\\n",
       "77             1       191039    False            13                68   \n",
       "91             1       200690    False             3                71   \n",
       "104            1       196258    False            16                72   \n",
       "321            1       209680    False             8                84   \n",
       "329            1       329160    False             1                42   \n",
       "..           ...          ...      ...           ...               ...   \n",
       "441            1       404680    False            13                48   \n",
       "442            1       389213    False            14                49   \n",
       "443            1       292426    False            15                48   \n",
       "444            1       376466    False            16                48   \n",
       "445            1       230546    False             1                49   \n",
       "\n",
       "                   track_id             track_name  \\\n",
       "77   1QQii3pa5m8MEda0nbkjfw                    NaN   \n",
       "91   02Zkkf2zMkwRGQjZ7T4p8f                    NaN   \n",
       "104  7712gjoih4QoDbXpljEk21                    NaN   \n",
       "321                     NaN               Gorgeous   \n",
       "329  00vJzaoxM3Eja1doBUhX0P           All Too Well   \n",
       "..                      ...                    ...   \n",
       "441  4DbI1rr4IQ2bc8nejy9ttd  Dear John - Live/2011   \n",
       "442                     NaN  Enchanted - Live/2011   \n",
       "443  6znB7YZhMJT2B83zfbiyLq    Haunted - Live/2011   \n",
       "444  5QkzyLUb4ggojNDp8G2OxX  Long Live - Live/2011   \n",
       "445                     NaN         Mine - POP Mix   \n",
       "\n",
       "     audio_features.danceability  audio_features.energy  audio_features.key  \\\n",
       "77                         0.661                  0.345                 4.0   \n",
       "91                         0.638                  0.634                 4.0   \n",
       "104                        0.700                  0.509                 7.0   \n",
       "321                        0.800                  0.535                 7.0   \n",
       "329                        0.602                  0.605                 0.0   \n",
       "..                           ...                    ...                 ...   \n",
       "441                        0.521                  0.386                 4.0   \n",
       "442                        0.340                  0.663                 8.0   \n",
       "443                        0.338                  0.818                 5.0   \n",
       "444                        0.544                  0.728                 7.0   \n",
       "445                        0.696                  0.768                 7.0   \n",
       "\n",
       "     ...  audio_features.tempo       audio_features.id  \\\n",
       "77   ...               125.977  1QQii3pa5m8MEda0nbkjfw   \n",
       "91   ...                96.953  02Zkkf2zMkwRGQjZ7T4p8f   \n",
       "104  ...               110.947  7712gjoih4QoDbXpljEk21   \n",
       "321  ...                92.027  1ZY1PqizIl78geGM4xWlEA   \n",
       "329  ...                93.061  00vJzaoxM3Eja1doBUhX0P   \n",
       "..   ...                   ...                     ...   \n",
       "441  ...               119.518  4DbI1rr4IQ2bc8nejy9ttd   \n",
       "442  ...               163.678  3lm4L3pPL32PFy74dR17OR   \n",
       "443  ...               162.157  6znB7YZhMJT2B83zfbiyLq   \n",
       "444  ...               101.939  5QkzyLUb4ggojNDp8G2OxX   \n",
       "445  ...               121.050  0GxW5K0qzrq7L1jwSY5OmY   \n",
       "\n",
       "     audio_features.time_signature           artist_id   artist_name  \\\n",
       "77                             4.0  06HL4z0CvFAxyc27GX  Taylor Swift   \n",
       "91                             4.0  06HL4z0CvFAxyc27GX  Taylor Swift   \n",
       "104                            4.0  06HL4z0CvFAxyc27GX  Taylor Swift   \n",
       "321                            4.0  06HL4z0CvFAxyc27GX  Taylor Swift   \n",
       "329                            4.0  06HL4z0CvFAxyc27GX  Taylor Swift   \n",
       "..                             ...                 ...           ...   \n",
       "441                            3.0  06HL4z0CvFAxyc27GX  Taylor Swift   \n",
       "442                            4.0  06HL4z0CvFAxyc27GX  Taylor Swift   \n",
       "443                            4.0  06HL4z0CvFAxyc27GX  Taylor Swift   \n",
       "444                            4.0  06HL4z0CvFAxyc27GX  Taylor Swift   \n",
       "445                            4.0  06HL4z0CvFAxyc27GX  Taylor Swift   \n",
       "\n",
       "     artist_popularity         albums.album_id  \\\n",
       "77                 120  1fnJ7k0bllNfL1kVdNVW1A   \n",
       "91                 120  3lS1y25WAhcqJDATJK70Mq   \n",
       "104                120  3lS1y25WAhcqJDATJK70Mq   \n",
       "321                120  6DEjYFkNZh67HP7R9PSZvv   \n",
       "329                120  1MPAXuTVL2Ej5x0JHiSPq8   \n",
       "..                 ...                     ...   \n",
       "441                120  6fyR4wBPwLHKcRtxgd4sGh   \n",
       "442                120  6fyR4wBPwLHKcRtxgd4sGh   \n",
       "443                120  6fyR4wBPwLHKcRtxgd4sGh   \n",
       "444                120  6fyR4wBPwLHKcRtxgd4sGh   \n",
       "445                120  6Ar2o9KCqcyYF9J0aQP3au   \n",
       "\n",
       "                    albums.album_name albums.album_release_date  \\\n",
       "77   Midnights (The Til Dawn Edition)                2027-05-26   \n",
       "91            Midnights (3am Edition)                2022-10-22   \n",
       "104           Midnights (3am Edition)                2022-10-22   \n",
       "321                        reputation                2017-11-10   \n",
       "329                               NaN                2017-11-09   \n",
       "..                                ...                       ...   \n",
       "441                               NaN                2010-10-25   \n",
       "442                               NaN                2010-10-25   \n",
       "443                               NaN                2010-10-25   \n",
       "444                               NaN                2010-10-25   \n",
       "445                         Speak Now                2010-10-25   \n",
       "\n",
       "     albums.album_total_tracks  \n",
       "77                          24  \n",
       "91                          20  \n",
       "104                         20  \n",
       "321                         15  \n",
       "329                         46  \n",
       "..                         ...  \n",
       "441                         16  \n",
       "442                         16  \n",
       "443                         16  \n",
       "444                         16  \n",
       "445                         14  \n",
       "\n",
       "[74 rows x 27 columns]"
      ]
     },
     "execution_count": 69,
     "metadata": {},
     "output_type": "execute_result"
    }
   ],
   "source": [
    "df[df.isnull().any(axis=1)]"
   ]
  },
  {
   "cell_type": "markdown",
   "metadata": {},
   "source": [
    "El porcentaje de registros sin valores nulos se calcula haciendo uso del filtro anterior, como vemos este es $86..27\\%$, el cual representa que de todos nuestros registros el $86.27\\%$ no posee ningún valor nulo"
   ]
  },
  {
   "cell_type": "code",
   "execution_count": 70,
   "metadata": {},
   "outputs": [
    {
     "name": "stdout",
     "output_type": "stream",
     "text": [
      "Non nulls rows percentage: 86.27%\n"
     ]
    }
   ],
   "source": [
    "non_nulls_rows=((len(df)-len(df[df.isnull().any(axis=1)]))/len(df))*100\n",
    "print('Non nulls rows percentage: {:.2f}%'.format(non_nulls_rows))"
   ]
  },
  {
   "cell_type": "markdown",
   "metadata": {},
   "source": [
    "Se puede un pequeño programa que de acuerdo al requerimiento del usuario devuelva el porcentaje de registros que tiene un máximo n de registros nulos, a continuación se muestra el programa y su ejecución."
   ]
  },
  {
   "cell_type": "code",
   "execution_count": 71,
   "metadata": {},
   "outputs": [],
   "source": [
    "n=1 #enter the maximun number of nulls fields you want to allow\n"
   ]
  },
  {
   "cell_type": "markdown",
   "metadata": {},
   "source": [
    "### Inconsistencias en la representación de valores nulos"
   ]
  },
  {
   "cell_type": "markdown",
   "metadata": {},
   "source": [
    "Por último se procede a revisar si existen posibles valores nulos pero que no son detectados por la función `isnull()` de pandas, estos posibles valores son cadenas de texto que se guardan con \"Null\", \"null\", \"None\", \"none\", \"NaN\", \"nan\", \"Nan\", \"nAn\", \"naN\", \"nAN\", \"NAN\", \"n/a\", \"N/a\", \"N/A\", \"n/A\", \"na\", \"Na\", \"nA\", \"NA\", \"n.a\", \"N.a\", \"n.A\", \"N.A\", \"n.a.\". Como se visualiza no existen columnas que contengan valores nulos que estan en formato string."
   ]
  },
  {
   "cell_type": "code",
   "execution_count": 72,
   "metadata": {},
   "outputs": [],
   "source": [
    "# Verify if there are rows with some possible null values that are not nulls\n",
    "null_values=[\"Null\", \"null\", \"None\", \"none\", \"NaN\", \"nan\", \"Nan\", \"nAn\", \"naN\", \"nAN\", \"NAN\", \"n/a\", \"N/a\", \"N/A\", \"n/A\", \"na\", \"Na\", \"nA\", \"NA\", \"n.a\", \"N.a\", \"n.A\", \"N.A\", \"n.a.\"]\n",
    "for column in df.columns:\n",
    "    if df[column].isin(null_values).any():\n",
    "        print('Column {} has null values'.format(column))"
   ]
  },
  {
   "cell_type": "markdown",
   "metadata": {},
   "source": [
    "## Datos Atipicos\n",
    "\n",
    "Una vez calculado el porcentaje de completitud para valores no nulos, el cual fue de $99.39%$, se procede a revisar si ademas de los valores nulos existen valores atipicos que puedan afectar la completitud de los datos estos valores se pueden considerar como nulos también pues pueden indicar errores en la recolección de datos, es decir son no usables, por lo que son utiles para calcular el porcentaje de completitud final de los datos. Primero se procede a verificar de acuerdo a la documentación de [Spotify Web API](https://developer.spotify.com/documentation/web-api), si existen valores que no estan dentro de los valores o rangos permitidos, a través de la documentación se resumió que los rangos para las siguientes columnas son los siguientes:\n",
    "- **disc_number:** Usualmente 1, pero puede ser mayor si el album tiene más de un disco, debe ser positivo.\n",
    "- **duration_ms:** La duración de la canción en milisegundos, el rango es cualquier valor positivo.\n",
    "- **track_number:** El número de la canción, si el album tiene más de un disco el número de la canción es el número en el disco especificado, es un valor positivo.\n",
    "- **track_popularity:** La popularidad de la canción, el rango es de 0 a 100.\n",
    "- **artist_popularity:** La popularidad del artista, el rango es de 0 a 100.\n",
    "- **albums.album_total_tracks:** El número de canciones en el album, cualquier valor positivo.\n",
    "#### Audio Features\n",
    "- **audio_features.danceability:** Rango de 0.0 a 1.0.\n",
    "- **audio_features.energy:** Rango de 0.0 a 1.0.\n",
    "- **audio_features.key:** Rango de -1 a 11.\n",
    "- **audio_features.loudness:** Rango de -60 a 0.\n",
    "- **audio_features.mode:** Puede ser 0 o 1.\n",
    "- **audio_features.speechiness:** Rango de 0.0 a 1.0.\n",
    "- **audio_features.acousticness:** Rango de 0.0 a 1.0.\n",
    "- **audio_features.instrumentalness:** Rango de 0.0 a 1.0.\n",
    "- **audio_features.liveness:** Rango de 0.0 a 1.0.\n",
    "- **audio_features.valence:** Rango de 0.0 a 1.0.\n",
    "- **audio_features.tempo:** Cualquier valor positivo.\n",
    "- **audio_features.time_signature:** Rango de 3 a 7.\n",
    "\n",
    "Con esta informacion se puede contar para esas columnas los valores que son atipicos causados posiblemente por errores en la recoleccion de datos. A continuación se muestra el conteo de valores atipicos por columna y el porcentaje de completitud para cada columna teniendo en cuenta unicamente los valores no atipicos. Para las columnas que no tienen un rango definido por el momento se toma como si todos los valores fueran tipicos. "
   ]
  },
  {
   "cell_type": "code",
   "execution_count": 73,
   "metadata": {},
   "outputs": [],
   "source": [
    "max=sys.maxsize\n",
    "disc_number_range=[1, max]\n",
    "duration_ms_range=[0, max]\n",
    "track_number_range=[1, max]\n",
    "track_popularity_range=[0, 100]\n",
    "artist_popularity_range=[0, 100]\n",
    "albums_total_tracks_range=[1, max]\n",
    "audio_features_range=[0, 1]\n",
    "audio_features_key_range=[-1, 11]\n",
    "audio_features_loudness_range=[-60, 0]\n",
    "audio_features_tempo_range=[0, max]\n",
    "audio_features_time_signature_range=[3, 7]"
   ]
  },
  {
   "cell_type": "markdown",
   "metadata": {},
   "source": []
  },
  {
   "cell_type": "code",
   "execution_count": 108,
   "metadata": {},
   "outputs": [
    {
     "ename": "SyntaxError",
     "evalue": "invalid syntax (1885292614.py, line 2)",
     "output_type": "error",
     "traceback": [
      "\u001b[0;36m  Cell \u001b[0;32mIn[108], line 2\u001b[0;36m\u001b[0m\n\u001b[0;31m    try:\u001b[0m\n\u001b[0m    ^\u001b[0m\n\u001b[0;31mSyntaxError\u001b[0m\u001b[0;31m:\u001b[0m invalid syntax\n"
     ]
    }
   ],
   "source": [
    "df['']"
   ]
  },
  {
   "cell_type": "code",
   "execution_count": 101,
   "metadata": {},
   "outputs": [
    {
     "name": "stdout",
     "output_type": "stream",
     "text": [
      "539\n",
      "539\n",
      "539\n",
      "539\n",
      "539\n",
      "539\n",
      "539\n",
      "539\n"
     ]
    },
    {
     "ename": "TypeError",
     "evalue": "'>=' not supported between instances of 'str' and 'int'",
     "output_type": "error",
     "traceback": [
      "\u001b[0;31m---------------------------------------------------------------------------\u001b[0m",
      "\u001b[0;31mTypeError\u001b[0m                                 Traceback (most recent call last)",
      "Cell \u001b[0;32mIn[101], line 10\u001b[0m\n\u001b[1;32m      8\u001b[0m \u001b[38;5;28mprint\u001b[39m(\u001b[38;5;28mlen\u001b[39m(df[\u001b[38;5;124m'\u001b[39m\u001b[38;5;124maudio_features.danceability\u001b[39m\u001b[38;5;124m'\u001b[39m]\u001b[38;5;241m.\u001b[39mbetween(audio_features_range[\u001b[38;5;241m0\u001b[39m], audio_features_range[\u001b[38;5;241m1\u001b[39m])))\n\u001b[1;32m      9\u001b[0m \u001b[38;5;28mprint\u001b[39m(\u001b[38;5;28mlen\u001b[39m(df[\u001b[38;5;124m'\u001b[39m\u001b[38;5;124maudio_features.energy\u001b[39m\u001b[38;5;124m'\u001b[39m]\u001b[38;5;241m.\u001b[39mbetween(audio_features_range[\u001b[38;5;241m0\u001b[39m], audio_features_range[\u001b[38;5;241m1\u001b[39m])))\n\u001b[0;32m---> 10\u001b[0m \u001b[38;5;28mprint\u001b[39m(\u001b[38;5;28mlen\u001b[39m(\u001b[43mdf\u001b[49m\u001b[43m[\u001b[49m\u001b[38;5;124;43m'\u001b[39;49m\u001b[38;5;124;43maudio_features.instrumentalness\u001b[39;49m\u001b[38;5;124;43m'\u001b[39;49m\u001b[43m]\u001b[49m\u001b[38;5;241;43m.\u001b[39;49m\u001b[43mbetween\u001b[49m\u001b[43m(\u001b[49m\u001b[43maudio_features_range\u001b[49m\u001b[43m[\u001b[49m\u001b[38;5;241;43m0\u001b[39;49m\u001b[43m]\u001b[49m\u001b[43m,\u001b[49m\u001b[43m \u001b[49m\u001b[43maudio_features_range\u001b[49m\u001b[43m[\u001b[49m\u001b[38;5;241;43m1\u001b[39;49m\u001b[43m]\u001b[49m\u001b[43m)\u001b[49m))\n\u001b[1;32m     11\u001b[0m \u001b[38;5;28mprint\u001b[39m(\u001b[38;5;28mlen\u001b[39m(df[\u001b[38;5;124m'\u001b[39m\u001b[38;5;124maudio_features.liveness\u001b[39m\u001b[38;5;124m'\u001b[39m]\u001b[38;5;241m.\u001b[39mbetween(audio_features_range[\u001b[38;5;241m0\u001b[39m], audio_features_range[\u001b[38;5;241m1\u001b[39m])))\n\u001b[1;32m     12\u001b[0m \u001b[38;5;28mprint\u001b[39m(\u001b[38;5;28mlen\u001b[39m(df[\u001b[38;5;124m'\u001b[39m\u001b[38;5;124maudio_features.loudness\u001b[39m\u001b[38;5;124m'\u001b[39m]\u001b[38;5;241m.\u001b[39mbetween(audio_features_loudness_range[\u001b[38;5;241m0\u001b[39m], audio_features_loudness_range[\u001b[38;5;241m1\u001b[39m])))\n",
      "File \u001b[0;32m~/Documentos/Proyectos/tech-test-R5/.venv/lib/python3.11/site-packages/pandas/core/series.py:5429\u001b[0m, in \u001b[0;36mSeries.between\u001b[0;34m(self, left, right, inclusive)\u001b[0m\n\u001b[1;32m   5361\u001b[0m \u001b[38;5;250m\u001b[39m\u001b[38;5;124;03m\"\"\"\u001b[39;00m\n\u001b[1;32m   5362\u001b[0m \u001b[38;5;124;03mReturn boolean Series equivalent to left <= series <= right.\u001b[39;00m\n\u001b[1;32m   5363\u001b[0m \n\u001b[0;32m   (...)\u001b[0m\n\u001b[1;32m   5426\u001b[0m \u001b[38;5;124;03mdtype: bool\u001b[39;00m\n\u001b[1;32m   5427\u001b[0m \u001b[38;5;124;03m\"\"\"\u001b[39;00m\n\u001b[1;32m   5428\u001b[0m \u001b[38;5;28;01mif\u001b[39;00m inclusive \u001b[38;5;241m==\u001b[39m \u001b[38;5;124m\"\u001b[39m\u001b[38;5;124mboth\u001b[39m\u001b[38;5;124m\"\u001b[39m:\n\u001b[0;32m-> 5429\u001b[0m     lmask \u001b[38;5;241m=\u001b[39m \u001b[38;5;28;43mself\u001b[39;49m\u001b[43m \u001b[49m\u001b[38;5;241;43m>\u001b[39;49m\u001b[38;5;241;43m=\u001b[39;49m\u001b[43m \u001b[49m\u001b[43mleft\u001b[49m\n\u001b[1;32m   5430\u001b[0m     rmask \u001b[38;5;241m=\u001b[39m \u001b[38;5;28mself\u001b[39m \u001b[38;5;241m<\u001b[39m\u001b[38;5;241m=\u001b[39m right\n\u001b[1;32m   5431\u001b[0m \u001b[38;5;28;01melif\u001b[39;00m inclusive \u001b[38;5;241m==\u001b[39m \u001b[38;5;124m\"\u001b[39m\u001b[38;5;124mleft\u001b[39m\u001b[38;5;124m\"\u001b[39m:\n",
      "File \u001b[0;32m~/Documentos/Proyectos/tech-test-R5/.venv/lib/python3.11/site-packages/pandas/core/ops/common.py:76\u001b[0m, in \u001b[0;36m_unpack_zerodim_and_defer.<locals>.new_method\u001b[0;34m(self, other)\u001b[0m\n\u001b[1;32m     72\u001b[0m             \u001b[38;5;28;01mreturn\u001b[39;00m \u001b[38;5;28mNotImplemented\u001b[39m\n\u001b[1;32m     74\u001b[0m other \u001b[38;5;241m=\u001b[39m item_from_zerodim(other)\n\u001b[0;32m---> 76\u001b[0m \u001b[38;5;28;01mreturn\u001b[39;00m \u001b[43mmethod\u001b[49m\u001b[43m(\u001b[49m\u001b[38;5;28;43mself\u001b[39;49m\u001b[43m,\u001b[49m\u001b[43m \u001b[49m\u001b[43mother\u001b[49m\u001b[43m)\u001b[49m\n",
      "File \u001b[0;32m~/Documentos/Proyectos/tech-test-R5/.venv/lib/python3.11/site-packages/pandas/core/arraylike.py:60\u001b[0m, in \u001b[0;36mOpsMixin.__ge__\u001b[0;34m(self, other)\u001b[0m\n\u001b[1;32m     58\u001b[0m \u001b[38;5;129m@unpack_zerodim_and_defer\u001b[39m(\u001b[38;5;124m\"\u001b[39m\u001b[38;5;124m__ge__\u001b[39m\u001b[38;5;124m\"\u001b[39m)\n\u001b[1;32m     59\u001b[0m \u001b[38;5;28;01mdef\u001b[39;00m \u001b[38;5;21m__ge__\u001b[39m(\u001b[38;5;28mself\u001b[39m, other):\n\u001b[0;32m---> 60\u001b[0m     \u001b[38;5;28;01mreturn\u001b[39;00m \u001b[38;5;28;43mself\u001b[39;49m\u001b[38;5;241;43m.\u001b[39;49m\u001b[43m_cmp_method\u001b[49m\u001b[43m(\u001b[49m\u001b[43mother\u001b[49m\u001b[43m,\u001b[49m\u001b[43m \u001b[49m\u001b[43moperator\u001b[49m\u001b[38;5;241;43m.\u001b[39;49m\u001b[43mge\u001b[49m\u001b[43m)\u001b[49m\n",
      "File \u001b[0;32m~/Documentos/Proyectos/tech-test-R5/.venv/lib/python3.11/site-packages/pandas/core/series.py:5803\u001b[0m, in \u001b[0;36mSeries._cmp_method\u001b[0;34m(self, other, op)\u001b[0m\n\u001b[1;32m   5800\u001b[0m lvalues \u001b[38;5;241m=\u001b[39m \u001b[38;5;28mself\u001b[39m\u001b[38;5;241m.\u001b[39m_values\n\u001b[1;32m   5801\u001b[0m rvalues \u001b[38;5;241m=\u001b[39m extract_array(other, extract_numpy\u001b[38;5;241m=\u001b[39m\u001b[38;5;28;01mTrue\u001b[39;00m, extract_range\u001b[38;5;241m=\u001b[39m\u001b[38;5;28;01mTrue\u001b[39;00m)\n\u001b[0;32m-> 5803\u001b[0m res_values \u001b[38;5;241m=\u001b[39m \u001b[43mops\u001b[49m\u001b[38;5;241;43m.\u001b[39;49m\u001b[43mcomparison_op\u001b[49m\u001b[43m(\u001b[49m\u001b[43mlvalues\u001b[49m\u001b[43m,\u001b[49m\u001b[43m \u001b[49m\u001b[43mrvalues\u001b[49m\u001b[43m,\u001b[49m\u001b[43m \u001b[49m\u001b[43mop\u001b[49m\u001b[43m)\u001b[49m\n\u001b[1;32m   5805\u001b[0m \u001b[38;5;28;01mreturn\u001b[39;00m \u001b[38;5;28mself\u001b[39m\u001b[38;5;241m.\u001b[39m_construct_result(res_values, name\u001b[38;5;241m=\u001b[39mres_name)\n",
      "File \u001b[0;32m~/Documentos/Proyectos/tech-test-R5/.venv/lib/python3.11/site-packages/pandas/core/ops/array_ops.py:346\u001b[0m, in \u001b[0;36mcomparison_op\u001b[0;34m(left, right, op)\u001b[0m\n\u001b[1;32m    343\u001b[0m     \u001b[38;5;28;01mreturn\u001b[39;00m invalid_comparison(lvalues, rvalues, op)\n\u001b[1;32m    345\u001b[0m \u001b[38;5;28;01melif\u001b[39;00m lvalues\u001b[38;5;241m.\u001b[39mdtype \u001b[38;5;241m==\u001b[39m \u001b[38;5;28mobject\u001b[39m \u001b[38;5;129;01mor\u001b[39;00m \u001b[38;5;28misinstance\u001b[39m(rvalues, \u001b[38;5;28mstr\u001b[39m):\n\u001b[0;32m--> 346\u001b[0m     res_values \u001b[38;5;241m=\u001b[39m \u001b[43mcomp_method_OBJECT_ARRAY\u001b[49m\u001b[43m(\u001b[49m\u001b[43mop\u001b[49m\u001b[43m,\u001b[49m\u001b[43m \u001b[49m\u001b[43mlvalues\u001b[49m\u001b[43m,\u001b[49m\u001b[43m \u001b[49m\u001b[43mrvalues\u001b[49m\u001b[43m)\u001b[49m\n\u001b[1;32m    348\u001b[0m \u001b[38;5;28;01melse\u001b[39;00m:\n\u001b[1;32m    349\u001b[0m     res_values \u001b[38;5;241m=\u001b[39m _na_arithmetic_op(lvalues, rvalues, op, is_cmp\u001b[38;5;241m=\u001b[39m\u001b[38;5;28;01mTrue\u001b[39;00m)\n",
      "File \u001b[0;32m~/Documentos/Proyectos/tech-test-R5/.venv/lib/python3.11/site-packages/pandas/core/ops/array_ops.py:131\u001b[0m, in \u001b[0;36mcomp_method_OBJECT_ARRAY\u001b[0;34m(op, x, y)\u001b[0m\n\u001b[1;32m    129\u001b[0m     result \u001b[38;5;241m=\u001b[39m libops\u001b[38;5;241m.\u001b[39mvec_compare(x\u001b[38;5;241m.\u001b[39mravel(), y\u001b[38;5;241m.\u001b[39mravel(), op)\n\u001b[1;32m    130\u001b[0m \u001b[38;5;28;01melse\u001b[39;00m:\n\u001b[0;32m--> 131\u001b[0m     result \u001b[38;5;241m=\u001b[39m \u001b[43mlibops\u001b[49m\u001b[38;5;241;43m.\u001b[39;49m\u001b[43mscalar_compare\u001b[49m\u001b[43m(\u001b[49m\u001b[43mx\u001b[49m\u001b[38;5;241;43m.\u001b[39;49m\u001b[43mravel\u001b[49m\u001b[43m(\u001b[49m\u001b[43m)\u001b[49m\u001b[43m,\u001b[49m\u001b[43m \u001b[49m\u001b[43my\u001b[49m\u001b[43m,\u001b[49m\u001b[43m \u001b[49m\u001b[43mop\u001b[49m\u001b[43m)\u001b[49m\n\u001b[1;32m    132\u001b[0m \u001b[38;5;28;01mreturn\u001b[39;00m result\u001b[38;5;241m.\u001b[39mreshape(x\u001b[38;5;241m.\u001b[39mshape)\n",
      "File \u001b[0;32mops.pyx:107\u001b[0m, in \u001b[0;36mpandas._libs.ops.scalar_compare\u001b[0;34m()\u001b[0m\n",
      "\u001b[0;31mTypeError\u001b[0m: '>=' not supported between instances of 'str' and 'int'"
     ]
    }
   ],
   "source": [
    "print(len(df['disc_number'].between(disc_number_range[0], disc_number_range[1])))\n",
    "print(len(df['duration_ms'].between(duration_ms_range[0], duration_ms_range[1])))\n",
    "print(len(df['track_number'].between(track_number_range[0], track_number_range[1])))\n",
    "print(len(df['track_popularity'].between(track_popularity_range[0], track_popularity_range[1])))\n",
    "print(len(df['artist_popularity'].between(artist_popularity_range[0], artist_popularity_range[1])))\n",
    "#print(len(df['albums.album_total_tracks'].between(albums_total_tracks_range[0], albums_total_tracks_range[1])))\n",
    "print(len(df['audio_features.acousticness'].between(audio_features_range[0], audio_features_range[1])))\n",
    "print(len(df['audio_features.danceability'].between(audio_features_range[0], audio_features_range[1])))\n",
    "print(len(df['audio_features.energy'].between(audio_features_range[0], audio_features_range[1])))\n",
    "print(len(df['audio_features.instrumentalness'].between(audio_features_range[0], audio_features_range[1])))\n",
    "print(len(df['audio_features.liveness'].between(audio_features_range[0], audio_features_range[1])))\n",
    "print(len(df['audio_features.loudness'].between(audio_features_loudness_range[0], audio_features_loudness_range[1])))\n",
    "print(len(df['audio_features.speechiness'].between(audio_features_range[0], audio_features_range[1])))\n",
    "print(len(df['audio_features.valence'].between(audio_features_range[0], audio_features_range[1])))\n",
    "print(len(df['audio_features.key'].between(audio_features_key_range[0], audio_features_key_range[1])))\n",
    "print(len(df['audio_features.tempo'].between(audio_features_tempo_range[0], audio_features_tempo_range[1])))\n",
    "print(len(df['audio_features.time_signature'].between(audio_features_time_signature_range[0], audio_features_time_signature_range[1])))\n"
   ]
  },
  {
   "cell_type": "markdown",
   "metadata": {},
   "source": [
    "\n",
    "Para esto se seleccionan solo algunas columnas a las que se le pueden calcular los valores atipicos u outliers,  Sin embargo también se debe considerar que no es posible aplicar a todas las columnas este criterio por lo que se seleccionan solo algunas columnas a las que se calcularan los porcentajes de valores atipicos. Las columnas seleccionadas son:\n",
    "- duration_ms\n",
    "- track_number\n",
    "- track_popularity"
   ]
  },
  {
   "cell_type": "code",
   "execution_count": 109,
   "metadata": {},
   "outputs": [
    {
     "data": {
      "application/vnd.plotly.v1+json": {
       "config": {
        "plotlyServerURL": "https://plot.ly"
       },
       "data": [
        {
         "alignmentgroup": "True",
         "hovertemplate": "audio_features.instrumentalness=%{y}<extra></extra>",
         "legendgroup": "",
         "marker": {
          "color": "#636efa"
         },
         "name": "",
         "notched": false,
         "offsetgroup": "",
         "orientation": "v",
         "showlegend": false,
         "type": "box",
         "x0": " ",
         "xaxis": "x",
         "y": [
          "3.66e-05",
          "0",
          "0.0197",
          "5.59e-05",
          "0",
          "2.18e-05",
          "1.25e-05",
          "0",
          "7.18e-05",
          "1.09e-05",
          "0",
          "0",
          "2.92e-05",
          "2.61e-05",
          "3.91e-06",
          "4.63e-06",
          "0.000199",
          "9.94e-06",
          "7.14e-05",
          "0",
          "0",
          "0",
          "2.24e-05",
          "0",
          "0.0214",
          "9.37e-05",
          "0",
          "1.27e-05",
          "1.04e-05",
          "0",
          "9.35e-05",
          "9.88e-06",
          "0",
          "0",
          "2.01e-05",
          "1.88e-05",
          "2.49e-06",
          "9.81e-06",
          "7.62e-05",
          "1.67e-05",
          "3.81e-05",
          "0",
          "0",
          "1.38e-06",
          "0",
          "0",
          "0",
          "0",
          "0",
          "0",
          "0",
          "0",
          "0",
          "0",
          "0",
          "4.43e-06",
          "0",
          "0",
          "0",
          "0",
          "0",
          "0",
          "0",
          "0",
          "0",
          "0.00113",
          "1.4e-06",
          "1.22e-06",
          "0.0013",
          "1.05e-05",
          "6.78e-05",
          "0",
          "3.42e-05",
          "0.000128",
          "0.328",
          "0",
          "0.00012",
          "0.000915",
          "2.78e-05",
          "0.00269",
          "3.07e-05",
          "0",
          "0",
          "0.00147",
          "0.00104",
          "4.73e-06",
          "3.5e-06",
          "0",
          "4.73e-06",
          "0.0012",
          "0",
          "1.23e-06",
          "0.00321",
          "8.47e-06",
          "6.51e-05",
          "0",
          "1.74e-05",
          "0.000102",
          "0.348",
          "0",
          "4.71e-05",
          "0.00147",
          "2.23e-05",
          "0.00648",
          "3.27e-05",
          "0",
          "0",
          "0.000575",
          "0.00145",
          "0.000573",
          "1.03e-06",
          "1.8e-06",
          "0.000993",
          "5.2e-06",
          "5.17e-05",
          "0",
          "5.25e-05",
          "5.58e-05",
          "0.488",
          "0",
          "7.72e-05",
          "0.00129",
          "0",
          "1.62e-06",
          "0.000127",
          "0",
          "0.00203",
          "1.02e-05",
          "0",
          "1.86e-06",
          "0",
          "0",
          "0.00218",
          "9.19e-05",
          "0",
          "0",
          "0",
          "0",
          "0",
          "0",
          "1.88e-05",
          "1.57e-06",
          "0",
          "0",
          "0",
          "2.83e-06",
          "3.72e-06",
          "0",
          "0",
          "0",
          "0",
          "0",
          "0",
          "0",
          "3.97e-06",
          "0",
          "0",
          "0",
          "0",
          "0",
          "0",
          "0",
          "0",
          "0",
          "0",
          "0",
          "0",
          "0",
          "0",
          "0",
          "0",
          "0",
          "0",
          "0",
          "0",
          "0",
          "1.2e-05",
          "0",
          "0.00179",
          "0",
          "0.166",
          "6.59e-05",
          "2.67e-05",
          "0",
          "0",
          "0",
          "0.000904",
          "1.97e-05",
          "0.000155",
          "0.179",
          "0.000136",
          "4.83e-06",
          "0.00227",
          "0.000106",
          "1.39e-05",
          "0.00179",
          "0",
          "0.166",
          "6.59e-05",
          "2.67e-05",
          "0",
          "0",
          "0",
          "0.000904",
          "1.97e-05",
          "0.000155",
          "0.179",
          "0.000136",
          "4.83e-06",
          "0.00227",
          "7.14e-06",
          "0.000414",
          "0.00414",
          "2.46e-05",
          "0",
          "1.9e-06",
          "2.59e-05",
          "6.93e-05",
          "2.3e-05",
          "0",
          "6.63e-05",
          "6.77e-06",
          "0.000326",
          "0",
          "1.5e-05",
          "7.9e-06",
          "1.3e-06",
          "0.026",
          "0",
          "0.004",
          "6.74e-05",
          "1.01e-05",
          "3.45e-05",
          "0.000126",
          "4.77e-05",
          "0.000898",
          "0",
          "4.85e-06",
          "0.000168",
          "0.000392",
          "0",
          "7.61e-05",
          "0",
          "0",
          "7.14e-06",
          "0.000414",
          "0.00414",
          "2.46e-05",
          "0",
          "1.9e-06",
          "2.59e-05",
          "6.93e-05",
          "2.3e-05",
          "0",
          "6.63e-05",
          "6.77e-06",
          "0.000326",
          "0",
          "1.5e-05",
          "7.9e-06",
          "1.3e-06",
          "0",
          "0.000345",
          "0.0023",
          "5.62e-05",
          "0",
          "2.33e-06",
          "2.7e-05",
          "7.28e-05",
          "4.74e-05",
          "0",
          "7.73e-05",
          "1.68e-05",
          "0.000402",
          "0",
          "1.73e-05",
          "3.86e-06",
          "2.03e-06",
          "2.06e-05",
          "1.58e-05",
          "0",
          "0.00569",
          "0.000353",
          "0.00615",
          "1.36e-05",
          "0.000189",
          "0",
          "0.000104",
          "0",
          "0.000147",
          "0",
          "0",
          "0",
          "0.000337",
          "0.000173",
          "2.03e-06",
          "2.06e-05",
          "1.58e-05",
          "0",
          "0.00569",
          "0.000353",
          "0.00615",
          "1.36e-05",
          "0.000189",
          "0",
          "0.000104",
          "0",
          "0.000147",
          "0",
          "0",
          "0",
          "0.000337",
          "0.000173",
          "0",
          "0",
          "2.11e-05",
          "1.76e-05",
          "0.000357",
          "1.41e-05",
          "1.1e-06",
          "9.48e-06",
          "9.48e-06",
          "2.23e-06",
          "2.21e-06",
          "1.1e-05",
          "0",
          "0",
          "0.000221",
          "0",
          "0.000334",
          "0.00144",
          "4.06e-06",
          "0.000125",
          "0.00208",
          "0",
          "0",
          "0.00146",
          "2.67e-06",
          "1.96e-05",
          "0",
          "0.00868",
          "1.1e-06",
          "0",
          "3.22e-06",
          "0",
          "0.00113",
          "0",
          "0",
          "4.3e-06",
          "0",
          "1.64e-06",
          "0",
          "0.00127",
          "0",
          "0",
          "1.19e-05",
          "2.01e-06",
          "0",
          "0",
          "0",
          "0",
          "0",
          "0",
          "0",
          "3.52e-06",
          "0",
          "0.000304",
          "0",
          "1.85e-06",
          "0",
          "2.57e-05",
          "0",
          "0.000469",
          "0.000487",
          "0",
          "1.64e-06",
          "0",
          "0.00258",
          "1.19e-05",
          "2.02e-05",
          "0",
          "4.95e-05",
          "6.16e-06",
          "0.00144",
          "0.00868",
          "0",
          "0",
          "0",
          "2.57e-05",
          "0.000108",
          "0.000458",
          "0",
          "0",
          "0",
          "1.76e-06",
          "1.64e-06",
          "0.00143",
          "1.23e-05",
          "4.77e-05",
          "0",
          "9.9e-05",
          "6.45e-06",
          "0.0056",
          "0.00458",
          "0",
          "0",
          "0",
          "0.00138",
          "8.87e-05",
          "4.3e-06",
          "2.25e-06",
          "0.0002",
          "0.0013",
          "4.13e-05",
          "2.65e-05",
          "1.29e-06",
          "3.15e-06",
          "0.00208",
          "0.0337",
          "0",
          "3.89e-06",
          "0.000335",
          "3.52e-06",
          "1.47e-05",
          "2.01e-06",
          "0",
          "6.14e-05",
          "0.000235",
          "0.000169",
          "0",
          "0",
          "0",
          "0",
          "0",
          "0",
          "2.67e-05",
          "1.28e-06",
          "8.73e-06",
          "0",
          "0",
          "0.000122",
          "0",
          "2.34e-06",
          "0",
          "0",
          "1.21e-06",
          "0",
          "0",
          "0",
          "1.65e-06",
          "0",
          "0.00161",
          "0",
          "0.000388",
          "2.06e-05",
          "0",
          "0",
          "3.75e-05",
          "7.47e-05",
          "1.21e-06",
          "0",
          "0",
          "0",
          "1.65e-06",
          "0",
          "0.00161",
          "0",
          "0.000388",
          "2.06e-05",
          "0",
          "0",
          "3.75e-05",
          "7.47e-05",
          "0",
          "4.05e-06",
          "1.94e-06",
          "0",
          "0",
          "4.55e-06",
          "0",
          "0.000372",
          "0",
          "3.78e-06",
          "0",
          "2.47e-06",
          "0",
          "0",
          "1.04e-06",
          "0",
          "0",
          "2.66e-06",
          "0",
          "2.46e-05",
          "0",
          "3.41e-06",
          "2.3e-06",
          "0",
          "0",
          "1e-06",
          "0",
          "0",
          "0",
          "0.00011",
          "3.87e-06",
          "0",
          "1.98e-05",
          "0",
          "1.99e-06",
          "2.39e-06",
          "0",
          "0",
          "3.04e-06",
          "0",
          "1.11e-06",
          "0.00755",
          "0.000437",
          "0",
          "0",
          "0",
          "0",
          "0",
          "0",
          "0",
          "0",
          "7.28x-06",
          "0",
          "0",
          "0",
          "0",
          "0",
          "0",
          "0",
          "0",
          "0",
          "0",
          "0.000807",
          "0",
          "0",
          "0"
         ],
         "y0": " ",
         "yaxis": "y"
        }
       ],
       "layout": {
        "boxmode": "group",
        "legend": {
         "tracegroupgap": 0
        },
        "template": {
         "data": {
          "bar": [
           {
            "error_x": {
             "color": "#2a3f5f"
            },
            "error_y": {
             "color": "#2a3f5f"
            },
            "marker": {
             "line": {
              "color": "#E5ECF6",
              "width": 0.5
             },
             "pattern": {
              "fillmode": "overlay",
              "size": 10,
              "solidity": 0.2
             }
            },
            "type": "bar"
           }
          ],
          "barpolar": [
           {
            "marker": {
             "line": {
              "color": "#E5ECF6",
              "width": 0.5
             },
             "pattern": {
              "fillmode": "overlay",
              "size": 10,
              "solidity": 0.2
             }
            },
            "type": "barpolar"
           }
          ],
          "carpet": [
           {
            "aaxis": {
             "endlinecolor": "#2a3f5f",
             "gridcolor": "white",
             "linecolor": "white",
             "minorgridcolor": "white",
             "startlinecolor": "#2a3f5f"
            },
            "baxis": {
             "endlinecolor": "#2a3f5f",
             "gridcolor": "white",
             "linecolor": "white",
             "minorgridcolor": "white",
             "startlinecolor": "#2a3f5f"
            },
            "type": "carpet"
           }
          ],
          "choropleth": [
           {
            "colorbar": {
             "outlinewidth": 0,
             "ticks": ""
            },
            "type": "choropleth"
           }
          ],
          "contour": [
           {
            "colorbar": {
             "outlinewidth": 0,
             "ticks": ""
            },
            "colorscale": [
             [
              0,
              "#0d0887"
             ],
             [
              0.1111111111111111,
              "#46039f"
             ],
             [
              0.2222222222222222,
              "#7201a8"
             ],
             [
              0.3333333333333333,
              "#9c179e"
             ],
             [
              0.4444444444444444,
              "#bd3786"
             ],
             [
              0.5555555555555556,
              "#d8576b"
             ],
             [
              0.6666666666666666,
              "#ed7953"
             ],
             [
              0.7777777777777778,
              "#fb9f3a"
             ],
             [
              0.8888888888888888,
              "#fdca26"
             ],
             [
              1,
              "#f0f921"
             ]
            ],
            "type": "contour"
           }
          ],
          "contourcarpet": [
           {
            "colorbar": {
             "outlinewidth": 0,
             "ticks": ""
            },
            "type": "contourcarpet"
           }
          ],
          "heatmap": [
           {
            "colorbar": {
             "outlinewidth": 0,
             "ticks": ""
            },
            "colorscale": [
             [
              0,
              "#0d0887"
             ],
             [
              0.1111111111111111,
              "#46039f"
             ],
             [
              0.2222222222222222,
              "#7201a8"
             ],
             [
              0.3333333333333333,
              "#9c179e"
             ],
             [
              0.4444444444444444,
              "#bd3786"
             ],
             [
              0.5555555555555556,
              "#d8576b"
             ],
             [
              0.6666666666666666,
              "#ed7953"
             ],
             [
              0.7777777777777778,
              "#fb9f3a"
             ],
             [
              0.8888888888888888,
              "#fdca26"
             ],
             [
              1,
              "#f0f921"
             ]
            ],
            "type": "heatmap"
           }
          ],
          "heatmapgl": [
           {
            "colorbar": {
             "outlinewidth": 0,
             "ticks": ""
            },
            "colorscale": [
             [
              0,
              "#0d0887"
             ],
             [
              0.1111111111111111,
              "#46039f"
             ],
             [
              0.2222222222222222,
              "#7201a8"
             ],
             [
              0.3333333333333333,
              "#9c179e"
             ],
             [
              0.4444444444444444,
              "#bd3786"
             ],
             [
              0.5555555555555556,
              "#d8576b"
             ],
             [
              0.6666666666666666,
              "#ed7953"
             ],
             [
              0.7777777777777778,
              "#fb9f3a"
             ],
             [
              0.8888888888888888,
              "#fdca26"
             ],
             [
              1,
              "#f0f921"
             ]
            ],
            "type": "heatmapgl"
           }
          ],
          "histogram": [
           {
            "marker": {
             "pattern": {
              "fillmode": "overlay",
              "size": 10,
              "solidity": 0.2
             }
            },
            "type": "histogram"
           }
          ],
          "histogram2d": [
           {
            "colorbar": {
             "outlinewidth": 0,
             "ticks": ""
            },
            "colorscale": [
             [
              0,
              "#0d0887"
             ],
             [
              0.1111111111111111,
              "#46039f"
             ],
             [
              0.2222222222222222,
              "#7201a8"
             ],
             [
              0.3333333333333333,
              "#9c179e"
             ],
             [
              0.4444444444444444,
              "#bd3786"
             ],
             [
              0.5555555555555556,
              "#d8576b"
             ],
             [
              0.6666666666666666,
              "#ed7953"
             ],
             [
              0.7777777777777778,
              "#fb9f3a"
             ],
             [
              0.8888888888888888,
              "#fdca26"
             ],
             [
              1,
              "#f0f921"
             ]
            ],
            "type": "histogram2d"
           }
          ],
          "histogram2dcontour": [
           {
            "colorbar": {
             "outlinewidth": 0,
             "ticks": ""
            },
            "colorscale": [
             [
              0,
              "#0d0887"
             ],
             [
              0.1111111111111111,
              "#46039f"
             ],
             [
              0.2222222222222222,
              "#7201a8"
             ],
             [
              0.3333333333333333,
              "#9c179e"
             ],
             [
              0.4444444444444444,
              "#bd3786"
             ],
             [
              0.5555555555555556,
              "#d8576b"
             ],
             [
              0.6666666666666666,
              "#ed7953"
             ],
             [
              0.7777777777777778,
              "#fb9f3a"
             ],
             [
              0.8888888888888888,
              "#fdca26"
             ],
             [
              1,
              "#f0f921"
             ]
            ],
            "type": "histogram2dcontour"
           }
          ],
          "mesh3d": [
           {
            "colorbar": {
             "outlinewidth": 0,
             "ticks": ""
            },
            "type": "mesh3d"
           }
          ],
          "parcoords": [
           {
            "line": {
             "colorbar": {
              "outlinewidth": 0,
              "ticks": ""
             }
            },
            "type": "parcoords"
           }
          ],
          "pie": [
           {
            "automargin": true,
            "type": "pie"
           }
          ],
          "scatter": [
           {
            "fillpattern": {
             "fillmode": "overlay",
             "size": 10,
             "solidity": 0.2
            },
            "type": "scatter"
           }
          ],
          "scatter3d": [
           {
            "line": {
             "colorbar": {
              "outlinewidth": 0,
              "ticks": ""
             }
            },
            "marker": {
             "colorbar": {
              "outlinewidth": 0,
              "ticks": ""
             }
            },
            "type": "scatter3d"
           }
          ],
          "scattercarpet": [
           {
            "marker": {
             "colorbar": {
              "outlinewidth": 0,
              "ticks": ""
             }
            },
            "type": "scattercarpet"
           }
          ],
          "scattergeo": [
           {
            "marker": {
             "colorbar": {
              "outlinewidth": 0,
              "ticks": ""
             }
            },
            "type": "scattergeo"
           }
          ],
          "scattergl": [
           {
            "marker": {
             "colorbar": {
              "outlinewidth": 0,
              "ticks": ""
             }
            },
            "type": "scattergl"
           }
          ],
          "scattermapbox": [
           {
            "marker": {
             "colorbar": {
              "outlinewidth": 0,
              "ticks": ""
             }
            },
            "type": "scattermapbox"
           }
          ],
          "scatterpolar": [
           {
            "marker": {
             "colorbar": {
              "outlinewidth": 0,
              "ticks": ""
             }
            },
            "type": "scatterpolar"
           }
          ],
          "scatterpolargl": [
           {
            "marker": {
             "colorbar": {
              "outlinewidth": 0,
              "ticks": ""
             }
            },
            "type": "scatterpolargl"
           }
          ],
          "scatterternary": [
           {
            "marker": {
             "colorbar": {
              "outlinewidth": 0,
              "ticks": ""
             }
            },
            "type": "scatterternary"
           }
          ],
          "surface": [
           {
            "colorbar": {
             "outlinewidth": 0,
             "ticks": ""
            },
            "colorscale": [
             [
              0,
              "#0d0887"
             ],
             [
              0.1111111111111111,
              "#46039f"
             ],
             [
              0.2222222222222222,
              "#7201a8"
             ],
             [
              0.3333333333333333,
              "#9c179e"
             ],
             [
              0.4444444444444444,
              "#bd3786"
             ],
             [
              0.5555555555555556,
              "#d8576b"
             ],
             [
              0.6666666666666666,
              "#ed7953"
             ],
             [
              0.7777777777777778,
              "#fb9f3a"
             ],
             [
              0.8888888888888888,
              "#fdca26"
             ],
             [
              1,
              "#f0f921"
             ]
            ],
            "type": "surface"
           }
          ],
          "table": [
           {
            "cells": {
             "fill": {
              "color": "#EBF0F8"
             },
             "line": {
              "color": "white"
             }
            },
            "header": {
             "fill": {
              "color": "#C8D4E3"
             },
             "line": {
              "color": "white"
             }
            },
            "type": "table"
           }
          ]
         },
         "layout": {
          "annotationdefaults": {
           "arrowcolor": "#2a3f5f",
           "arrowhead": 0,
           "arrowwidth": 1
          },
          "autotypenumbers": "strict",
          "coloraxis": {
           "colorbar": {
            "outlinewidth": 0,
            "ticks": ""
           }
          },
          "colorscale": {
           "diverging": [
            [
             0,
             "#8e0152"
            ],
            [
             0.1,
             "#c51b7d"
            ],
            [
             0.2,
             "#de77ae"
            ],
            [
             0.3,
             "#f1b6da"
            ],
            [
             0.4,
             "#fde0ef"
            ],
            [
             0.5,
             "#f7f7f7"
            ],
            [
             0.6,
             "#e6f5d0"
            ],
            [
             0.7,
             "#b8e186"
            ],
            [
             0.8,
             "#7fbc41"
            ],
            [
             0.9,
             "#4d9221"
            ],
            [
             1,
             "#276419"
            ]
           ],
           "sequential": [
            [
             0,
             "#0d0887"
            ],
            [
             0.1111111111111111,
             "#46039f"
            ],
            [
             0.2222222222222222,
             "#7201a8"
            ],
            [
             0.3333333333333333,
             "#9c179e"
            ],
            [
             0.4444444444444444,
             "#bd3786"
            ],
            [
             0.5555555555555556,
             "#d8576b"
            ],
            [
             0.6666666666666666,
             "#ed7953"
            ],
            [
             0.7777777777777778,
             "#fb9f3a"
            ],
            [
             0.8888888888888888,
             "#fdca26"
            ],
            [
             1,
             "#f0f921"
            ]
           ],
           "sequentialminus": [
            [
             0,
             "#0d0887"
            ],
            [
             0.1111111111111111,
             "#46039f"
            ],
            [
             0.2222222222222222,
             "#7201a8"
            ],
            [
             0.3333333333333333,
             "#9c179e"
            ],
            [
             0.4444444444444444,
             "#bd3786"
            ],
            [
             0.5555555555555556,
             "#d8576b"
            ],
            [
             0.6666666666666666,
             "#ed7953"
            ],
            [
             0.7777777777777778,
             "#fb9f3a"
            ],
            [
             0.8888888888888888,
             "#fdca26"
            ],
            [
             1,
             "#f0f921"
            ]
           ]
          },
          "colorway": [
           "#636efa",
           "#EF553B",
           "#00cc96",
           "#ab63fa",
           "#FFA15A",
           "#19d3f3",
           "#FF6692",
           "#B6E880",
           "#FF97FF",
           "#FECB52"
          ],
          "font": {
           "color": "#2a3f5f"
          },
          "geo": {
           "bgcolor": "white",
           "lakecolor": "white",
           "landcolor": "#E5ECF6",
           "showlakes": true,
           "showland": true,
           "subunitcolor": "white"
          },
          "hoverlabel": {
           "align": "left"
          },
          "hovermode": "closest",
          "mapbox": {
           "style": "light"
          },
          "paper_bgcolor": "white",
          "plot_bgcolor": "#E5ECF6",
          "polar": {
           "angularaxis": {
            "gridcolor": "white",
            "linecolor": "white",
            "ticks": ""
           },
           "bgcolor": "#E5ECF6",
           "radialaxis": {
            "gridcolor": "white",
            "linecolor": "white",
            "ticks": ""
           }
          },
          "scene": {
           "xaxis": {
            "backgroundcolor": "#E5ECF6",
            "gridcolor": "white",
            "gridwidth": 2,
            "linecolor": "white",
            "showbackground": true,
            "ticks": "",
            "zerolinecolor": "white"
           },
           "yaxis": {
            "backgroundcolor": "#E5ECF6",
            "gridcolor": "white",
            "gridwidth": 2,
            "linecolor": "white",
            "showbackground": true,
            "ticks": "",
            "zerolinecolor": "white"
           },
           "zaxis": {
            "backgroundcolor": "#E5ECF6",
            "gridcolor": "white",
            "gridwidth": 2,
            "linecolor": "white",
            "showbackground": true,
            "ticks": "",
            "zerolinecolor": "white"
           }
          },
          "shapedefaults": {
           "line": {
            "color": "#2a3f5f"
           }
          },
          "ternary": {
           "aaxis": {
            "gridcolor": "white",
            "linecolor": "white",
            "ticks": ""
           },
           "baxis": {
            "gridcolor": "white",
            "linecolor": "white",
            "ticks": ""
           },
           "bgcolor": "#E5ECF6",
           "caxis": {
            "gridcolor": "white",
            "linecolor": "white",
            "ticks": ""
           }
          },
          "title": {
           "x": 0.05
          },
          "xaxis": {
           "automargin": true,
           "gridcolor": "white",
           "linecolor": "white",
           "ticks": "",
           "title": {
            "standoff": 15
           },
           "zerolinecolor": "white",
           "zerolinewidth": 2
          },
          "yaxis": {
           "automargin": true,
           "gridcolor": "white",
           "linecolor": "white",
           "ticks": "",
           "title": {
            "standoff": 15
           },
           "zerolinecolor": "white",
           "zerolinewidth": 2
          }
         }
        },
        "title": {
         "text": "instrumentalness"
        },
        "xaxis": {
         "anchor": "y",
         "domain": [
          0,
          1
         ]
        },
        "yaxis": {
         "anchor": "x",
         "domain": [
          0,
          1
         ],
         "title": {
          "text": "audio_features.instrumentalness"
         }
        }
       }
      }
     },
     "metadata": {},
     "output_type": "display_data"
    },
    {
     "data": {
      "text/html": [
       "<div>\n",
       "<style scoped>\n",
       "    .dataframe tbody tr th:only-of-type {\n",
       "        vertical-align: middle;\n",
       "    }\n",
       "\n",
       "    .dataframe tbody tr th {\n",
       "        vertical-align: top;\n",
       "    }\n",
       "\n",
       "    .dataframe thead th {\n",
       "        text-align: right;\n",
       "    }\n",
       "</style>\n",
       "<table border=\"1\" class=\"dataframe\">\n",
       "  <thead>\n",
       "    <tr style=\"text-align: right;\">\n",
       "      <th></th>\n",
       "      <th>disc_number</th>\n",
       "      <th>duration_ms</th>\n",
       "      <th>explicit</th>\n",
       "      <th>track_number</th>\n",
       "      <th>track_popularity</th>\n",
       "      <th>track_id</th>\n",
       "      <th>track_name</th>\n",
       "      <th>audio_features.danceability</th>\n",
       "      <th>audio_features.energy</th>\n",
       "      <th>audio_features.key</th>\n",
       "      <th>...</th>\n",
       "      <th>audio_features.tempo</th>\n",
       "      <th>audio_features.id</th>\n",
       "      <th>audio_features.time_signature</th>\n",
       "      <th>artist_id</th>\n",
       "      <th>artist_name</th>\n",
       "      <th>artist_popularity</th>\n",
       "      <th>albums.album_id</th>\n",
       "      <th>albums.album_name</th>\n",
       "      <th>albums.album_release_date</th>\n",
       "      <th>albums.album_total_tracks</th>\n",
       "    </tr>\n",
       "  </thead>\n",
       "  <tbody>\n",
       "    <tr>\n",
       "      <th>234</th>\n",
       "      <td>2</td>\n",
       "      <td>260000</td>\n",
       "      <td>False</td>\n",
       "      <td>8</td>\n",
       "      <td>60</td>\n",
       "      <td>4MGexoZc12lqE0hYkq9YYx</td>\n",
       "      <td>august - the long pond studio sessions</td>\n",
       "      <td>0.554</td>\n",
       "      <td>0.663</td>\n",
       "      <td>5.0</td>\n",
       "      <td>...</td>\n",
       "      <td>89.977</td>\n",
       "      <td>4MGexoZc12lqE0hYkq9YYx</td>\n",
       "      <td>4.0</td>\n",
       "      <td>06HL4z0CvFAxyc27GX</td>\n",
       "      <td>Taylor Swift</td>\n",
       "      <td>120</td>\n",
       "      <td>0PZ7lAru5FDFHuirTkWe9Z</td>\n",
       "      <td>folklore: the long pond studio sessions (from ...</td>\n",
       "      <td>2020-11-25</td>\n",
       "      <td>34</td>\n",
       "    </tr>\n",
       "    <tr>\n",
       "      <th>429</th>\n",
       "      <td>1</td>\n",
       "      <td>336826</td>\n",
       "      <td>False</td>\n",
       "      <td>1</td>\n",
       "      <td>49</td>\n",
       "      <td>1aBJNc2thaKyh5THWzIqHX</td>\n",
       "      <td>Sparks Fly - Live/2011</td>\n",
       "      <td>0.455</td>\n",
       "      <td>0.783</td>\n",
       "      <td>5.0</td>\n",
       "      <td>...</td>\n",
       "      <td>114.981</td>\n",
       "      <td>1aBJNc2thaKyh5THWzIqHX</td>\n",
       "      <td>4.0</td>\n",
       "      <td>06HL4z0CvFAxyc27GX</td>\n",
       "      <td>Taylor Swift</td>\n",
       "      <td>120</td>\n",
       "      <td>6fyR4wBPwLHKcRtxgd4sGh</td>\n",
       "      <td>NaN</td>\n",
       "      <td>2010-10-25</td>\n",
       "      <td>16</td>\n",
       "    </tr>\n",
       "    <tr>\n",
       "      <th>431</th>\n",
       "      <td>1</td>\n",
       "      <td>290520</td>\n",
       "      <td>False</td>\n",
       "      <td>3</td>\n",
       "      <td>48</td>\n",
       "      <td>72GIZuUXo14oyrS0si3Rgc</td>\n",
       "      <td>The Story Of Us - Live</td>\n",
       "      <td>NaN</td>\n",
       "      <td>0.908</td>\n",
       "      <td>9.0</td>\n",
       "      <td>...</td>\n",
       "      <td>139.813</td>\n",
       "      <td>72GIZuUXo14oyrS0si3Rgc</td>\n",
       "      <td>4.0</td>\n",
       "      <td>06HL4z0CvFAxyc27GX</td>\n",
       "      <td>Taylor Swift</td>\n",
       "      <td>120</td>\n",
       "      <td>6fyR4wBPwLHKcRtxgd4sGh</td>\n",
       "      <td>NaN</td>\n",
       "      <td>2010-10-25</td>\n",
       "      <td>16</td>\n",
       "    </tr>\n",
       "    <tr>\n",
       "      <th>433</th>\n",
       "      <td>1</td>\n",
       "      <td>245973</td>\n",
       "      <td>False</td>\n",
       "      <td>5</td>\n",
       "      <td>47</td>\n",
       "      <td>68QyrSzpnoU04AAhE5z8lj</td>\n",
       "      <td>Ours - Live/2011</td>\n",
       "      <td>0.421</td>\n",
       "      <td>0.355</td>\n",
       "      <td>0.0</td>\n",
       "      <td>...</td>\n",
       "      <td>77.769</td>\n",
       "      <td>68QyrSzpnoU04AAhE5z8lj</td>\n",
       "      <td>4.0</td>\n",
       "      <td>06HL4z0CvFAxyc27GX</td>\n",
       "      <td>Taylor Swift</td>\n",
       "      <td>120</td>\n",
       "      <td>6fyR4wBPwLHKcRtxgd4sGh</td>\n",
       "      <td>NaN</td>\n",
       "      <td>2010-10-25</td>\n",
       "      <td>16</td>\n",
       "    </tr>\n",
       "    <tr>\n",
       "      <th>434</th>\n",
       "      <td>1</td>\n",
       "      <td>362826</td>\n",
       "      <td>False</td>\n",
       "      <td>6</td>\n",
       "      <td>54</td>\n",
       "      <td>NaN</td>\n",
       "      <td>Back To December/Apologize/You're Not Sorry - ...</td>\n",
       "      <td>0.374</td>\n",
       "      <td>0.516</td>\n",
       "      <td>2.0</td>\n",
       "      <td>...</td>\n",
       "      <td>142.057</td>\n",
       "      <td>1IsquhJFJ0qcFZI7FeAEuN</td>\n",
       "      <td>4.0</td>\n",
       "      <td>06HL4z0CvFAxyc27GX</td>\n",
       "      <td>Taylor Swift</td>\n",
       "      <td>120</td>\n",
       "      <td>6fyR4wBPwLHKcRtxgd4sGh</td>\n",
       "      <td>NaN</td>\n",
       "      <td>2010-10-25</td>\n",
       "      <td>16</td>\n",
       "    </tr>\n",
       "    <tr>\n",
       "      <th>435</th>\n",
       "      <td>1</td>\n",
       "      <td>344573</td>\n",
       "      <td>False</td>\n",
       "      <td>7</td>\n",
       "      <td>49</td>\n",
       "      <td>6505MLhnqTDDg4tjoUz2Wp</td>\n",
       "      <td>Better Than Revenge - Live/2011</td>\n",
       "      <td>0.445</td>\n",
       "      <td>0.887</td>\n",
       "      <td>11.0</td>\n",
       "      <td>...</td>\n",
       "      <td>145.954</td>\n",
       "      <td>6505MLhnqTDDg4tjoUz2Wp</td>\n",
       "      <td>4.0</td>\n",
       "      <td>06HL4z0CvFAxyc27GX</td>\n",
       "      <td>Taylor Swift</td>\n",
       "      <td>120</td>\n",
       "      <td>6fyR4wBPwLHKcRtxgd4sGh</td>\n",
       "      <td>NaN</td>\n",
       "      <td>2010-10-25</td>\n",
       "      <td>16</td>\n",
       "    </tr>\n",
       "    <tr>\n",
       "      <th>436</th>\n",
       "      <td>1</td>\n",
       "      <td>248146</td>\n",
       "      <td>False</td>\n",
       "      <td>8</td>\n",
       "      <td>47</td>\n",
       "      <td>3QFB14MOUf3imlyISNmrbT</td>\n",
       "      <td>Speak Now - Live/2011</td>\n",
       "      <td>0.615</td>\n",
       "      <td>0.694</td>\n",
       "      <td>7.0</td>\n",
       "      <td>...</td>\n",
       "      <td>118.876</td>\n",
       "      <td>3QFB14MOUf3imlyISNmrbT</td>\n",
       "      <td>4.0</td>\n",
       "      <td>06HL4z0CvFAxyc27GX</td>\n",
       "      <td>Taylor Swift</td>\n",
       "      <td>120</td>\n",
       "      <td>6fyR4wBPwLHKcRtxgd4sGh</td>\n",
       "      <td>NaN</td>\n",
       "      <td>2010-10-25</td>\n",
       "      <td>16</td>\n",
       "    </tr>\n",
       "    <tr>\n",
       "      <th>437</th>\n",
       "      <td>1</td>\n",
       "      <td>369066</td>\n",
       "      <td>False</td>\n",
       "      <td>9</td>\n",
       "      <td>47</td>\n",
       "      <td>6hH37tyeRdyan1mAppmVor</td>\n",
       "      <td>Last Kiss - Live/2011</td>\n",
       "      <td>0.427</td>\n",
       "      <td>0.395</td>\n",
       "      <td>0.0</td>\n",
       "      <td>...</td>\n",
       "      <td>79.517</td>\n",
       "      <td>6hH37tyeRdyan1mAppmVor</td>\n",
       "      <td>3.0</td>\n",
       "      <td>06HL4z0CvFAxyc27GX</td>\n",
       "      <td>Taylor Swift</td>\n",
       "      <td>120</td>\n",
       "      <td>6fyR4wBPwLHKcRtxgd4sGh</td>\n",
       "      <td>NaN</td>\n",
       "      <td>2010-10-25</td>\n",
       "      <td>16</td>\n",
       "    </tr>\n",
       "    <tr>\n",
       "      <th>438</th>\n",
       "      <td>1</td>\n",
       "      <td>315173</td>\n",
       "      <td>False</td>\n",
       "      <td>10</td>\n",
       "      <td>53</td>\n",
       "      <td>0BSmbCIY36iw04azzJ3S0S</td>\n",
       "      <td>Drops Of Jupiter - Live/2011</td>\n",
       "      <td>0.374</td>\n",
       "      <td>0.504</td>\n",
       "      <td>2.0</td>\n",
       "      <td>...</td>\n",
       "      <td>109.025</td>\n",
       "      <td>0BSmbCIY36iw04azzJ3S0S</td>\n",
       "      <td>5.0</td>\n",
       "      <td>06HL4z0CvFAxyc27GX</td>\n",
       "      <td>Taylor Swift</td>\n",
       "      <td>120</td>\n",
       "      <td>6fyR4wBPwLHKcRtxgd4sGh</td>\n",
       "      <td>NaN</td>\n",
       "      <td>2010-10-25</td>\n",
       "      <td>16</td>\n",
       "    </tr>\n",
       "    <tr>\n",
       "      <th>439</th>\n",
       "      <td>1</td>\n",
       "      <td>189146</td>\n",
       "      <td>False</td>\n",
       "      <td>11</td>\n",
       "      <td>49</td>\n",
       "      <td>6KF9xd2hBLuexrmBX4vUWD</td>\n",
       "      <td>Bette Davis Eyes - Live/2011</td>\n",
       "      <td>0.327</td>\n",
       "      <td>0.488</td>\n",
       "      <td>6.0</td>\n",
       "      <td>...</td>\n",
       "      <td>104.460</td>\n",
       "      <td>6KF9xd2hBLuexrmBX4vUWD</td>\n",
       "      <td>4.0</td>\n",
       "      <td>06HL4z0CvFAxyc27GX</td>\n",
       "      <td>Taylor Swift</td>\n",
       "      <td>120</td>\n",
       "      <td>6fyR4wBPwLHKcRtxgd4sGh</td>\n",
       "      <td>NaN</td>\n",
       "      <td>2010-10-25</td>\n",
       "      <td>16</td>\n",
       "    </tr>\n",
       "    <tr>\n",
       "      <th>441</th>\n",
       "      <td>1</td>\n",
       "      <td>404680</td>\n",
       "      <td>False</td>\n",
       "      <td>13</td>\n",
       "      <td>48</td>\n",
       "      <td>4DbI1rr4IQ2bc8nejy9ttd</td>\n",
       "      <td>Dear John - Live/2011</td>\n",
       "      <td>0.521</td>\n",
       "      <td>0.386</td>\n",
       "      <td>4.0</td>\n",
       "      <td>...</td>\n",
       "      <td>119.518</td>\n",
       "      <td>4DbI1rr4IQ2bc8nejy9ttd</td>\n",
       "      <td>3.0</td>\n",
       "      <td>06HL4z0CvFAxyc27GX</td>\n",
       "      <td>Taylor Swift</td>\n",
       "      <td>120</td>\n",
       "      <td>6fyR4wBPwLHKcRtxgd4sGh</td>\n",
       "      <td>NaN</td>\n",
       "      <td>2010-10-25</td>\n",
       "      <td>16</td>\n",
       "    </tr>\n",
       "    <tr>\n",
       "      <th>443</th>\n",
       "      <td>1</td>\n",
       "      <td>292426</td>\n",
       "      <td>False</td>\n",
       "      <td>15</td>\n",
       "      <td>48</td>\n",
       "      <td>6znB7YZhMJT2B83zfbiyLq</td>\n",
       "      <td>Haunted - Live/2011</td>\n",
       "      <td>0.338</td>\n",
       "      <td>0.818</td>\n",
       "      <td>5.0</td>\n",
       "      <td>...</td>\n",
       "      <td>162.157</td>\n",
       "      <td>6znB7YZhMJT2B83zfbiyLq</td>\n",
       "      <td>4.0</td>\n",
       "      <td>06HL4z0CvFAxyc27GX</td>\n",
       "      <td>Taylor Swift</td>\n",
       "      <td>120</td>\n",
       "      <td>6fyR4wBPwLHKcRtxgd4sGh</td>\n",
       "      <td>NaN</td>\n",
       "      <td>2010-10-25</td>\n",
       "      <td>16</td>\n",
       "    </tr>\n",
       "    <tr>\n",
       "      <th>444</th>\n",
       "      <td>1</td>\n",
       "      <td>376466</td>\n",
       "      <td>False</td>\n",
       "      <td>16</td>\n",
       "      <td>48</td>\n",
       "      <td>5QkzyLUb4ggojNDp8G2OxX</td>\n",
       "      <td>Long Live - Live/2011</td>\n",
       "      <td>0.544</td>\n",
       "      <td>0.728</td>\n",
       "      <td>7.0</td>\n",
       "      <td>...</td>\n",
       "      <td>101.939</td>\n",
       "      <td>5QkzyLUb4ggojNDp8G2OxX</td>\n",
       "      <td>4.0</td>\n",
       "      <td>06HL4z0CvFAxyc27GX</td>\n",
       "      <td>Taylor Swift</td>\n",
       "      <td>120</td>\n",
       "      <td>6fyR4wBPwLHKcRtxgd4sGh</td>\n",
       "      <td>NaN</td>\n",
       "      <td>2010-10-25</td>\n",
       "      <td>16</td>\n",
       "    </tr>\n",
       "  </tbody>\n",
       "</table>\n",
       "<p>13 rows × 27 columns</p>\n",
       "</div>"
      ],
      "text/plain": [
       "     disc_number  duration_ms explicit  track_number  track_popularity  \\\n",
       "234            2       260000    False             8                60   \n",
       "429            1       336826    False             1                49   \n",
       "431            1       290520    False             3                48   \n",
       "433            1       245973    False             5                47   \n",
       "434            1       362826    False             6                54   \n",
       "435            1       344573    False             7                49   \n",
       "436            1       248146    False             8                47   \n",
       "437            1       369066    False             9                47   \n",
       "438            1       315173    False            10                53   \n",
       "439            1       189146    False            11                49   \n",
       "441            1       404680    False            13                48   \n",
       "443            1       292426    False            15                48   \n",
       "444            1       376466    False            16                48   \n",
       "\n",
       "                   track_id  \\\n",
       "234  4MGexoZc12lqE0hYkq9YYx   \n",
       "429  1aBJNc2thaKyh5THWzIqHX   \n",
       "431  72GIZuUXo14oyrS0si3Rgc   \n",
       "433  68QyrSzpnoU04AAhE5z8lj   \n",
       "434                     NaN   \n",
       "435  6505MLhnqTDDg4tjoUz2Wp   \n",
       "436  3QFB14MOUf3imlyISNmrbT   \n",
       "437  6hH37tyeRdyan1mAppmVor   \n",
       "438  0BSmbCIY36iw04azzJ3S0S   \n",
       "439  6KF9xd2hBLuexrmBX4vUWD   \n",
       "441  4DbI1rr4IQ2bc8nejy9ttd   \n",
       "443  6znB7YZhMJT2B83zfbiyLq   \n",
       "444  5QkzyLUb4ggojNDp8G2OxX   \n",
       "\n",
       "                                            track_name  \\\n",
       "234             august - the long pond studio sessions   \n",
       "429                             Sparks Fly - Live/2011   \n",
       "431                             The Story Of Us - Live   \n",
       "433                                   Ours - Live/2011   \n",
       "434  Back To December/Apologize/You're Not Sorry - ...   \n",
       "435                    Better Than Revenge - Live/2011   \n",
       "436                              Speak Now - Live/2011   \n",
       "437                              Last Kiss - Live/2011   \n",
       "438                       Drops Of Jupiter - Live/2011   \n",
       "439                       Bette Davis Eyes - Live/2011   \n",
       "441                              Dear John - Live/2011   \n",
       "443                                Haunted - Live/2011   \n",
       "444                              Long Live - Live/2011   \n",
       "\n",
       "     audio_features.danceability  audio_features.energy  audio_features.key  \\\n",
       "234                        0.554                  0.663                 5.0   \n",
       "429                        0.455                  0.783                 5.0   \n",
       "431                          NaN                  0.908                 9.0   \n",
       "433                        0.421                  0.355                 0.0   \n",
       "434                        0.374                  0.516                 2.0   \n",
       "435                        0.445                  0.887                11.0   \n",
       "436                        0.615                  0.694                 7.0   \n",
       "437                        0.427                  0.395                 0.0   \n",
       "438                        0.374                  0.504                 2.0   \n",
       "439                        0.327                  0.488                 6.0   \n",
       "441                        0.521                  0.386                 4.0   \n",
       "443                        0.338                  0.818                 5.0   \n",
       "444                        0.544                  0.728                 7.0   \n",
       "\n",
       "     ...  audio_features.tempo       audio_features.id  \\\n",
       "234  ...                89.977  4MGexoZc12lqE0hYkq9YYx   \n",
       "429  ...               114.981  1aBJNc2thaKyh5THWzIqHX   \n",
       "431  ...               139.813  72GIZuUXo14oyrS0si3Rgc   \n",
       "433  ...                77.769  68QyrSzpnoU04AAhE5z8lj   \n",
       "434  ...               142.057  1IsquhJFJ0qcFZI7FeAEuN   \n",
       "435  ...               145.954  6505MLhnqTDDg4tjoUz2Wp   \n",
       "436  ...               118.876  3QFB14MOUf3imlyISNmrbT   \n",
       "437  ...                79.517  6hH37tyeRdyan1mAppmVor   \n",
       "438  ...               109.025  0BSmbCIY36iw04azzJ3S0S   \n",
       "439  ...               104.460  6KF9xd2hBLuexrmBX4vUWD   \n",
       "441  ...               119.518  4DbI1rr4IQ2bc8nejy9ttd   \n",
       "443  ...               162.157  6znB7YZhMJT2B83zfbiyLq   \n",
       "444  ...               101.939  5QkzyLUb4ggojNDp8G2OxX   \n",
       "\n",
       "     audio_features.time_signature           artist_id   artist_name  \\\n",
       "234                            4.0  06HL4z0CvFAxyc27GX  Taylor Swift   \n",
       "429                            4.0  06HL4z0CvFAxyc27GX  Taylor Swift   \n",
       "431                            4.0  06HL4z0CvFAxyc27GX  Taylor Swift   \n",
       "433                            4.0  06HL4z0CvFAxyc27GX  Taylor Swift   \n",
       "434                            4.0  06HL4z0CvFAxyc27GX  Taylor Swift   \n",
       "435                            4.0  06HL4z0CvFAxyc27GX  Taylor Swift   \n",
       "436                            4.0  06HL4z0CvFAxyc27GX  Taylor Swift   \n",
       "437                            3.0  06HL4z0CvFAxyc27GX  Taylor Swift   \n",
       "438                            5.0  06HL4z0CvFAxyc27GX  Taylor Swift   \n",
       "439                            4.0  06HL4z0CvFAxyc27GX  Taylor Swift   \n",
       "441                            3.0  06HL4z0CvFAxyc27GX  Taylor Swift   \n",
       "443                            4.0  06HL4z0CvFAxyc27GX  Taylor Swift   \n",
       "444                            4.0  06HL4z0CvFAxyc27GX  Taylor Swift   \n",
       "\n",
       "     artist_popularity         albums.album_id  \\\n",
       "234                120  0PZ7lAru5FDFHuirTkWe9Z   \n",
       "429                120  6fyR4wBPwLHKcRtxgd4sGh   \n",
       "431                120  6fyR4wBPwLHKcRtxgd4sGh   \n",
       "433                120  6fyR4wBPwLHKcRtxgd4sGh   \n",
       "434                120  6fyR4wBPwLHKcRtxgd4sGh   \n",
       "435                120  6fyR4wBPwLHKcRtxgd4sGh   \n",
       "436                120  6fyR4wBPwLHKcRtxgd4sGh   \n",
       "437                120  6fyR4wBPwLHKcRtxgd4sGh   \n",
       "438                120  6fyR4wBPwLHKcRtxgd4sGh   \n",
       "439                120  6fyR4wBPwLHKcRtxgd4sGh   \n",
       "441                120  6fyR4wBPwLHKcRtxgd4sGh   \n",
       "443                120  6fyR4wBPwLHKcRtxgd4sGh   \n",
       "444                120  6fyR4wBPwLHKcRtxgd4sGh   \n",
       "\n",
       "                                     albums.album_name  \\\n",
       "234  folklore: the long pond studio sessions (from ...   \n",
       "429                                                NaN   \n",
       "431                                                NaN   \n",
       "433                                                NaN   \n",
       "434                                                NaN   \n",
       "435                                                NaN   \n",
       "436                                                NaN   \n",
       "437                                                NaN   \n",
       "438                                                NaN   \n",
       "439                                                NaN   \n",
       "441                                                NaN   \n",
       "443                                                NaN   \n",
       "444                                                NaN   \n",
       "\n",
       "    albums.album_release_date  albums.album_total_tracks  \n",
       "234                2020-11-25                         34  \n",
       "429                2010-10-25                         16  \n",
       "431                2010-10-25                         16  \n",
       "433                2010-10-25                         16  \n",
       "434                2010-10-25                         16  \n",
       "435                2010-10-25                         16  \n",
       "436                2010-10-25                         16  \n",
       "437                2010-10-25                         16  \n",
       "438                2010-10-25                         16  \n",
       "439                2010-10-25                         16  \n",
       "441                2010-10-25                         16  \n",
       "443                2010-10-25                         16  \n",
       "444                2010-10-25                         16  \n",
       "\n",
       "[13 rows x 27 columns]"
      ]
     },
     "execution_count": 109,
     "metadata": {},
     "output_type": "execute_result"
    }
   ],
   "source": [
    "fig=px.box(df, y='audio_features.instrumentalness', title='instrumentalness')\n",
    "fig.show()\n",
    "\n",
    "df[df['audio_features.liveness']>0.7]"
   ]
  },
  {
   "cell_type": "markdown",
   "metadata": {},
   "source": []
  }
 ],
 "metadata": {
  "kernelspec": {
   "display_name": ".venv",
   "language": "python",
   "name": "python3"
  },
  "language_info": {
   "codemirror_mode": {
    "name": "ipython",
    "version": 3
   },
   "file_extension": ".py",
   "mimetype": "text/x-python",
   "name": "python",
   "nbconvert_exporter": "python",
   "pygments_lexer": "ipython3",
   "version": "3.11.4"
  }
 },
 "nbformat": 4,
 "nbformat_minor": 2
}
